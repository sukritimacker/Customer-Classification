{
 "cells": [
  {
   "cell_type": "markdown",
   "metadata": {},
   "source": [
    "## IMPORTING THE REQUIRED LIBRARIES"
   ]
  },
  {
   "cell_type": "code",
   "execution_count": 7,
   "metadata": {},
   "outputs": [
    {
     "ename": "ModuleNotFoundError",
     "evalue": "No module named 'geopandas'",
     "output_type": "error",
     "traceback": [
      "\u001b[1;31m---------------------------------------------------------------------------\u001b[0m",
      "\u001b[1;31mModuleNotFoundError\u001b[0m                       Traceback (most recent call last)",
      "\u001b[1;32m<ipython-input-7-5087d742b731>\u001b[0m in \u001b[0;36m<module>\u001b[1;34m\u001b[0m\n\u001b[0;32m      6\u001b[0m \u001b[1;32mimport\u001b[0m \u001b[0mmatplotlib\u001b[0m\u001b[1;33m.\u001b[0m\u001b[0mpyplot\u001b[0m \u001b[1;32mas\u001b[0m \u001b[0mplt\u001b[0m\u001b[1;33m\u001b[0m\u001b[1;33m\u001b[0m\u001b[0m\n\u001b[0;32m      7\u001b[0m \u001b[1;32mimport\u001b[0m \u001b[0mseaborn\u001b[0m \u001b[1;32mas\u001b[0m \u001b[0msns\u001b[0m\u001b[1;33m\u001b[0m\u001b[1;33m\u001b[0m\u001b[0m\n\u001b[1;32m----> 8\u001b[1;33m \u001b[1;32mimport\u001b[0m \u001b[0mgeopandas\u001b[0m \u001b[1;32mas\u001b[0m \u001b[0mgpd\u001b[0m\u001b[1;33m\u001b[0m\u001b[1;33m\u001b[0m\u001b[0m\n\u001b[0m",
      "\u001b[1;31mModuleNotFoundError\u001b[0m: No module named 'geopandas'"
     ]
    }
   ],
   "source": [
    "# For Data Manipulation\n",
    "import pandas as pd\n",
    "import numpy as np\n",
    "\n",
    "# For Balancing the imbalanced data\n",
    "from imblearn.combine import SMOTETomek\n",
    "\n",
    "# For selecting the best features\n",
    "from sklearn.feature_selection import SelectKBest\n",
    "from sklearn.feature_selection import chi2\n",
    "\n",
    "# For Data Visualization\n",
    "import matplotlib.pyplot as plt\n",
    "import seaborn as sns\n",
    "import geopandas as gpd\n",
    "\n",
    "# Score and Performace Metrics\n",
    "from sklearn.metrics import confusion_matrix\n",
    "from sklearn.model_selection import cross_val_score\n",
    "from sklearn.metrics import classification_report\n",
    "\n",
    "# For Train and Test Split\n",
    "from sklearn import model_selection\n",
    "\n",
    "# For binary classification\n",
    "from sklearn.linear_model import LogisticRegression\n",
    "from sklearn.ensemble import RandomForestClassifier"
   ]
  },
  {
   "cell_type": "markdown",
   "metadata": {},
   "source": [
    "## IMPORTING THE DATA FILE"
   ]
  },
  {
   "cell_type": "code",
   "execution_count": 3,
   "metadata": {},
   "outputs": [],
   "source": [
    "# Importing the data file\n",
    "\n",
    "data=pd.read_excel(\"C:/Users/Sukriti Macker/All Internship Works/Peacock Solar/Peacock Solar Data Analytics Intern/Data Analytics Work.xlsx\")"
   ]
  },
  {
   "cell_type": "code",
   "execution_count": 3,
   "metadata": {
    "scrolled": false
   },
   "outputs": [
    {
     "data": {
      "text/html": [
       "<div>\n",
       "<style scoped>\n",
       "    .dataframe tbody tr th:only-of-type {\n",
       "        vertical-align: middle;\n",
       "    }\n",
       "\n",
       "    .dataframe tbody tr th {\n",
       "        vertical-align: top;\n",
       "    }\n",
       "\n",
       "    .dataframe thead th {\n",
       "        text-align: right;\n",
       "    }\n",
       "</style>\n",
       "<table border=\"1\" class=\"dataframe\">\n",
       "  <thead>\n",
       "    <tr style=\"text-align: right;\">\n",
       "      <th></th>\n",
       "      <th>Unnamed: 0</th>\n",
       "      <th>Full name</th>\n",
       "      <th>Age</th>\n",
       "      <th>Marital Status</th>\n",
       "      <th>Gender</th>\n",
       "      <th>Which type of organization do you work for?</th>\n",
       "      <th>Name of Profession</th>\n",
       "      <th>What is the type of home that you own?</th>\n",
       "      <th>Number of Floors in House</th>\n",
       "      <th>How many people live in your household(including children)?</th>\n",
       "      <th>...</th>\n",
       "      <th>Which one would you prefer ?</th>\n",
       "      <th>Do you have any relative/friend that bought a solar system?</th>\n",
       "      <th>Do you know any Solar Panel installation companies ?</th>\n",
       "      <th>Name the Solar company you know</th>\n",
       "      <th>Who owns the house you live in?</th>\n",
       "      <th>Which city is your house at?</th>\n",
       "      <th>Are you filling this form on behalf of your parents/others?</th>\n",
       "      <th>What are your computer brands?</th>\n",
       "      <th>State Name</th>\n",
       "      <th>Solar Panel Purchased or Not</th>\n",
       "    </tr>\n",
       "  </thead>\n",
       "  <tbody>\n",
       "    <tr>\n",
       "      <th>0</th>\n",
       "      <td>0</td>\n",
       "      <td>sweta singh</td>\n",
       "      <td>15-25</td>\n",
       "      <td>Single</td>\n",
       "      <td>Female</td>\n",
       "      <td>Private</td>\n",
       "      <td>hr</td>\n",
       "      <td>Flat(On Rent)</td>\n",
       "      <td>4+</td>\n",
       "      <td>NaN</td>\n",
       "      <td>...</td>\n",
       "      <td>4-star rated appliance</td>\n",
       "      <td>NaN</td>\n",
       "      <td>No</td>\n",
       "      <td>peacock solar</td>\n",
       "      <td>NaN</td>\n",
       "      <td>NaN</td>\n",
       "      <td>NaN</td>\n",
       "      <td>NaN</td>\n",
       "      <td>NaN</td>\n",
       "      <td>No</td>\n",
       "    </tr>\n",
       "    <tr>\n",
       "      <th>1</th>\n",
       "      <td>1</td>\n",
       "      <td>Ajay Babu</td>\n",
       "      <td>15-25</td>\n",
       "      <td>Single</td>\n",
       "      <td>Male</td>\n",
       "      <td>Private</td>\n",
       "      <td>Logistics</td>\n",
       "      <td>Independent house or Villa</td>\n",
       "      <td>Ground Floor</td>\n",
       "      <td>5.0</td>\n",
       "      <td>...</td>\n",
       "      <td>4-star rated appliance</td>\n",
       "      <td>No</td>\n",
       "      <td>Yes</td>\n",
       "      <td>Roofsol</td>\n",
       "      <td>NaN</td>\n",
       "      <td>NaN</td>\n",
       "      <td>NaN</td>\n",
       "      <td>NaN</td>\n",
       "      <td>NaN</td>\n",
       "      <td>No</td>\n",
       "    </tr>\n",
       "    <tr>\n",
       "      <th>2</th>\n",
       "      <td>2</td>\n",
       "      <td>Ajumal Khan A</td>\n",
       "      <td>15-25</td>\n",
       "      <td>Single</td>\n",
       "      <td>Male</td>\n",
       "      <td>Business</td>\n",
       "      <td>Self Employed</td>\n",
       "      <td>Independent house or Villa</td>\n",
       "      <td>2 Floors</td>\n",
       "      <td>5.0</td>\n",
       "      <td>...</td>\n",
       "      <td>5-star rated appliance (with Extra services an...</td>\n",
       "      <td>NaN</td>\n",
       "      <td>No</td>\n",
       "      <td>Enerparc</td>\n",
       "      <td>NaN</td>\n",
       "      <td>NaN</td>\n",
       "      <td>NaN</td>\n",
       "      <td>NaN</td>\n",
       "      <td>NaN</td>\n",
       "      <td>No</td>\n",
       "    </tr>\n",
       "    <tr>\n",
       "      <th>3</th>\n",
       "      <td>3</td>\n",
       "      <td>Navya Venugopal</td>\n",
       "      <td>15-25</td>\n",
       "      <td>Single</td>\n",
       "      <td>Female</td>\n",
       "      <td>NGO</td>\n",
       "      <td>social worker</td>\n",
       "      <td>Flat(On Rent)</td>\n",
       "      <td>3 Floors</td>\n",
       "      <td>3.0</td>\n",
       "      <td>...</td>\n",
       "      <td>4-star rated appliance</td>\n",
       "      <td>No</td>\n",
       "      <td>No</td>\n",
       "      <td>NaN</td>\n",
       "      <td>NaN</td>\n",
       "      <td>NaN</td>\n",
       "      <td>NaN</td>\n",
       "      <td>NaN</td>\n",
       "      <td>NaN</td>\n",
       "      <td>No</td>\n",
       "    </tr>\n",
       "  </tbody>\n",
       "</table>\n",
       "<p>4 rows × 65 columns</p>\n",
       "</div>"
      ],
      "text/plain": [
       "   Unnamed: 0        Full name   Age  Marital Status  Gender  \\\n",
       "0           0      sweta singh  15-25         Single  Female   \n",
       "1           1        Ajay Babu  15-25         Single    Male   \n",
       "2           2    Ajumal Khan A  15-25         Single    Male   \n",
       "3           3  Navya Venugopal  15-25         Single  Female   \n",
       "\n",
       "  Which type of organization do you work for? Name of Profession  \\\n",
       "0                                     Private                 hr   \n",
       "1                                     Private          Logistics   \n",
       "2                                    Business      Self Employed   \n",
       "3                                         NGO      social worker   \n",
       "\n",
       "  What is the type of home that you own? Number of Floors in House  \\\n",
       "0                          Flat(On Rent)                        4+   \n",
       "1             Independent house or Villa              Ground Floor   \n",
       "2             Independent house or Villa                  2 Floors   \n",
       "3                          Flat(On Rent)                  3 Floors   \n",
       "\n",
       "   How many people live in your household(including children)?  ...  \\\n",
       "0                                                NaN            ...   \n",
       "1                                                5.0            ...   \n",
       "2                                                5.0            ...   \n",
       "3                                                3.0            ...   \n",
       "\n",
       "                        Which one would you prefer ?  \\\n",
       "0                             4-star rated appliance   \n",
       "1                             4-star rated appliance   \n",
       "2  5-star rated appliance (with Extra services an...   \n",
       "3                             4-star rated appliance   \n",
       "\n",
       "  Do you have any relative/friend that bought a solar system?  \\\n",
       "0                                                NaN            \n",
       "1                                                 No            \n",
       "2                                                NaN            \n",
       "3                                                 No            \n",
       "\n",
       "  Do you know any Solar Panel installation companies ?  \\\n",
       "0                                                 No     \n",
       "1                                                Yes     \n",
       "2                                                 No     \n",
       "3                                                 No     \n",
       "\n",
       "  Name the Solar company you know Who owns the house you live in?  \\\n",
       "0                   peacock solar                             NaN   \n",
       "1                         Roofsol                             NaN   \n",
       "2                        Enerparc                             NaN   \n",
       "3                             NaN                             NaN   \n",
       "\n",
       "  Which city is your house at?  \\\n",
       "0                          NaN   \n",
       "1                          NaN   \n",
       "2                          NaN   \n",
       "3                          NaN   \n",
       "\n",
       "  Are you filling this form on behalf of your parents/others?  \\\n",
       "0                                                NaN            \n",
       "1                                                NaN            \n",
       "2                                                NaN            \n",
       "3                                                NaN            \n",
       "\n",
       "  What are your computer brands?  State Name Solar Panel Purchased or Not  \n",
       "0                             NaN        NaN                           No  \n",
       "1                             NaN        NaN                           No  \n",
       "2                             NaN        NaN                           No  \n",
       "3                             NaN        NaN                           No  \n",
       "\n",
       "[4 rows x 65 columns]"
      ]
     },
     "execution_count": 3,
     "metadata": {},
     "output_type": "execute_result"
    }
   ],
   "source": [
    "# Understanding the content and the data provided\n",
    "\n",
    "data.head(4)"
   ]
  },
  {
   "cell_type": "markdown",
   "metadata": {},
   "source": [
    "## MANIPULATING THE DATA"
   ]
  },
  {
   "cell_type": "code",
   "execution_count": 6,
   "metadata": {},
   "outputs": [
    {
     "data": {
      "text/plain": [
       "<matplotlib.axes._subplots.AxesSubplot at 0x1d6161ea5c8>"
      ]
     },
     "execution_count": 6,
     "metadata": {},
     "output_type": "execute_result"
    },
    {
     "data": {
      "image/png": "[encoded data removed]",
      "text/plain": [
       "<Figure size 432x288 with 1 Axes>"
      ]
     },
     "metadata": {
      "needs_background": "light"
     },
     "output_type": "display_data"
    }
   ],
   "source": [
    "## Finding the missing values\n",
    "\n",
    "sns.heatmap(data.isnull(), cbar = False)"
   ]
  },
  {
   "cell_type": "markdown",
   "metadata": {},
   "source": [
    "#### Dropping the columns which are mostly empty and won't contribute to the final result"
   ]
  },
  {
   "cell_type": "code",
   "execution_count": 5,
   "metadata": {},
   "outputs": [],
   "source": [
    "data.drop(\"Unnamed: 0\",axis=1,inplace=True)"
   ]
  },
  {
   "cell_type": "code",
   "execution_count": 6,
   "metadata": {},
   "outputs": [],
   "source": [
    "data.drop(\"Name of Profession\",axis=1,inplace=True)"
   ]
  },
  {
   "cell_type": "code",
   "execution_count": 7,
   "metadata": {},
   "outputs": [],
   "source": [
    "data.drop(\"What is the type of home that you own?\",axis=1,inplace=True)"
   ]
  },
  {
   "cell_type": "code",
   "execution_count": 8,
   "metadata": {},
   "outputs": [],
   "source": [
    "data.drop(\"Do you plan to build an additional floor? (If other, what does it depend on?)\",axis=1,inplace=True)"
   ]
  },
  {
   "cell_type": "code",
   "execution_count": 9,
   "metadata": {},
   "outputs": [],
   "source": [
    "data.drop(\"Plot size of the house (In Square yards)\",axis=1,inplace=True)"
   ]
  },
  {
   "cell_type": "code",
   "execution_count": 10,
   "metadata": {},
   "outputs": [],
   "source": [
    "data.drop(\"Which payment method do you use the most?\",axis=1,inplace=True)"
   ]
  },
  {
   "cell_type": "code",
   "execution_count": 11,
   "metadata": {},
   "outputs": [],
   "source": [
    "data.drop(\"What electrical appliances do you own?\",axis=1,inplace=True)"
   ]
  },
  {
   "cell_type": "code",
   "execution_count": 12,
   "metadata": {},
   "outputs": [],
   "source": [
    "data.drop(\"What is the next appliance you want to buy?\",axis=1,inplace=True)"
   ]
  },
  {
   "cell_type": "code",
   "execution_count": 13,
   "metadata": {},
   "outputs": [],
   "source": [
    "data.drop(\"Name the Solar company you know\",axis=1,inplace=True)"
   ]
  },
  {
   "cell_type": "code",
   "execution_count": 14,
   "metadata": {},
   "outputs": [],
   "source": [
    "data.drop(\"Who owns the house you live in?\",axis=1,inplace=True)"
   ]
  },
  {
   "cell_type": "code",
   "execution_count": 15,
   "metadata": {},
   "outputs": [],
   "source": [
    "data.drop(\"What are your computer brands? \",axis=1,inplace=True)"
   ]
  },
  {
   "cell_type": "markdown",
   "metadata": {},
   "source": [
    "#### To maintain uniformity in the data, filling in the columns that have missing values using Mean, Median or Mode where necessary"
   ]
  },
  {
   "cell_type": "code",
   "execution_count": 16,
   "metadata": {},
   "outputs": [],
   "source": [
    "data[\"Which type of organization do you work for?\"].fillna(data[\"Which type of organization do you work for?\"].mode()[0],inplace=True)"
   ]
  },
  {
   "cell_type": "code",
   "execution_count": 17,
   "metadata": {},
   "outputs": [],
   "source": [
    "data[\"How many people live in your household(including children)?\"].fillna(data[\"How many people live in your household(including children)?\"].median(),inplace=True)"
   ]
  },
  {
   "cell_type": "code",
   "execution_count": 18,
   "metadata": {},
   "outputs": [],
   "source": [
    "data[\"What percentage of your roof are you ready to give for solar?\"].fillna(data[\"What percentage of your roof are you ready to give for solar?\"].mode()[0],inplace=True)"
   ]
  },
  {
   "cell_type": "code",
   "execution_count": 19,
   "metadata": {},
   "outputs": [],
   "source": [
    "data[\"Do you have a home loan? \"].fillna(data[\"Do you have a home loan? \"].mode()[0],inplace=True)"
   ]
  },
  {
   "cell_type": "code",
   "execution_count": 20,
   "metadata": {},
   "outputs": [],
   "source": [
    "data[\"How many of the below vehicles do you own? [2-Wheelers]\"].fillna(data[\"How many of the below vehicles do you own? [2-Wheelers]\"].mode()[0],inplace=True)"
   ]
  },
  {
   "cell_type": "code",
   "execution_count": 21,
   "metadata": {},
   "outputs": [],
   "source": [
    "data[\"How many of the below vehicles do you own? [4-Wheelers]\"].fillna(data[\"How many of the below vehicles do you own? [4-Wheelers]\"].mode()[0],inplace=True)"
   ]
  },
  {
   "cell_type": "code",
   "execution_count": 22,
   "metadata": {},
   "outputs": [],
   "source": [
    "data[\"Do you currently have an EMI for any home appliance?\"].fillna(data[\"Do you currently have an EMI for any home appliance?\"].mode()[0],inplace=True)"
   ]
  },
  {
   "cell_type": "code",
   "execution_count": 23,
   "metadata": {},
   "outputs": [],
   "source": [
    "data[\"What are your appliances brands?  [AC]\"].fillna(data[\"What are your appliances brands?  [AC]\"].mode()[0],inplace=True)"
   ]
  },
  {
   "cell_type": "code",
   "execution_count": 24,
   "metadata": {},
   "outputs": [],
   "source": [
    "data[\"What are your appliances brands?  [Refrigerator]\"].fillna(data[\"What are your appliances brands?  [Refrigerator]\"].mode()[0],inplace=True)"
   ]
  },
  {
   "cell_type": "code",
   "execution_count": 25,
   "metadata": {},
   "outputs": [],
   "source": [
    "data[\"What are your appliances brands?  [Computer]\"].fillna(data[\"What are your appliances brands?  [Computer]\"].mode()[0],inplace=True)"
   ]
  },
  {
   "cell_type": "code",
   "execution_count": 26,
   "metadata": {},
   "outputs": [],
   "source": [
    "data[\"What are your appliances brands?  [TV]\"].fillna(data[\"What are your appliances brands?  [TV]\"].mode()[0],inplace=True)"
   ]
  },
  {
   "cell_type": "code",
   "execution_count": 27,
   "metadata": {},
   "outputs": [],
   "source": [
    "data[\"What are your appliances brands?  [Water Heater]\"].fillna(data[\"What are your appliances brands?  [Water Heater]\"].mode()[0],inplace=True)"
   ]
  },
  {
   "cell_type": "code",
   "execution_count": 28,
   "metadata": {},
   "outputs": [],
   "source": [
    "data[\"What are your appliances brands?  [Washing Machine]\"].fillna(data[\"What are your appliances brands?  [Washing Machine]\"].mode()[0],inplace=True)"
   ]
  },
  {
   "cell_type": "code",
   "execution_count": 29,
   "metadata": {},
   "outputs": [],
   "source": [
    "data[\"Do you have any relative/friend that bought a solar system?\"].fillna(data[\"Do you have any relative/friend that bought a solar system?\"].mode()[0],inplace=True)"
   ]
  },
  {
   "cell_type": "code",
   "execution_count": 30,
   "metadata": {},
   "outputs": [],
   "source": [
    "data[\"Are you filling this form on behalf of your parents/others?\"].fillna(data[\"Are you filling this form on behalf of your parents/others?\"].mode()[0],inplace=True)"
   ]
  },
  {
   "cell_type": "markdown",
   "metadata": {},
   "source": [
    "#### To establish uniformity in 'Gender' column the values are manipulated and changed to the following:- Male, Female & Others"
   ]
  },
  {
   "cell_type": "code",
   "execution_count": 31,
   "metadata": {},
   "outputs": [],
   "source": [
    "def cleaning_names(var):\n",
    "    if var=='Single':\n",
    "        return var\n",
    "    elif var=='Married':\n",
    "        return var\n",
    "    else:\n",
    "        return ('Others')"
   ]
  },
  {
   "cell_type": "code",
   "execution_count": 32,
   "metadata": {},
   "outputs": [],
   "source": [
    "data['Marital Status']=data['Marital Status'].apply(cleaning_names)"
   ]
  },
  {
   "cell_type": "markdown",
   "metadata": {},
   "source": [
    "#### To establish uniformity in the 'Which city is your house at' column, each city is raised to the level of its respective states so that the data can provide better and efficient results"
   ]
  },
  {
   "cell_type": "code",
   "execution_count": 33,
   "metadata": {},
   "outputs": [],
   "source": [
    "state_city={\"Andhra Pradesh\": [ \"Adilabad\", \"Anantapur\", \"Chittoor\", \"Kakinada\", \"Guntur\", \"Hyderabad\", \"Karimnagar\", \"Khammam\", \"Krishna\", \"Kurnool\", \"Mahbubnagar\", \"Medak\", \"Nalgonda\", \"Nizamabad\", \"Ongole\", \"Hyderabad\", \"Srikakulam\", \"Nellore\", \"Visakhapatnam\", \"Vizianagaram\", \"Warangal\", \"Eluru\", \"Kadapa\"], \"Arunachal Pradesh\": [ \"Anjaw\", \"Changlang\", \"East Siang\", \"Kurung Kumey\", \"Lohit\", \"Lower Dibang Valley\", \"Lower Subansiri\", \"Papum Pare\", \"Tawang\", \"Tirap\", \"Dibang Valley\", \"Upper Siang\", \"Upper Subansiri\", \"West Kameng\", \"West Siang\"], \"Assam\": [ \"Baksa\", \"Barpeta\", \"Bongaigaon\", \"Cachar\", \"Chirang\", \"Darrang\", \"Dhemaji\", \"Dima Hasao\", \"Dhubri\", \"Dibrugarh\", \"Goalpara\", \"Golaghat\", \"Hailakandi\", \"Jorhat\", \"Kamrup\", \"Kamrup Metropolitan\", \"Karbi Anglong\", \"Karimganj\", \"Kokrajhar\", \"Lakhimpur\", \"Marigaon\", \"Nagaon\", \"Nalbari\", \"Sibsagar\", \"Sonitpur\", \"Tinsukia\", \"Udalguri\"], \"Bihar\": [ \"Araria\", \"Arwal\", \"Aurangabad\", \"Banka\", \"Begusarai\", \"Bhagalpur\", \"Bhojpur\", \"Buxar\", \"Darbhanga\", \"East Champaran\", \"Gaya\", \"Gopalganj\", \"Jamui\", \"Jehanabad\", \"Kaimur\", \"Katihar\", \"Khagaria\", \"Kishanganj\", \"Lakhisarai\", \"Madhepura\", \"Madhubani\", \"Munger\", \"Muzaffarpur\", \"Nalanda\", \"Nawada\", \"Patna\", \"Purnia\", \"Rohtas\", \"Saharsa\", \"Samastipur\", \"Saran\", \"Sheikhpura\", \"Sheohar\", \"Sitamarhi\", \"Siwan\", \"Supaul\", \"Vaishali\", \"West Champaran\", \"Chandigarh\"], \"Chhattisgarh\": [ \"Bastar\", \"Bijapur\", \"Bilaspur\", \"Dantewada\", \"Dhamtari\", \"Durg\", \"Jashpur\", \"Janjgir-Champa\", \"Korba\", \"Koriya\", \"Kanker\", \"Kabirdham (Kawardha)\", \"Mahasamund\", \"Narayanpur\", \"Raigarh\", \"Rajnandgaon\", \"Raipur\", \"Surguja\"], \"Dadra and Nagar Haveli\": [ \"Dadra and Nagar Haveli\" ], \"Daman and Diu\": [ \"Daman\", \"Diu\"], \"Delhi\": [ \"Central Delhi\", \"East Delhi\", \"New Delhi\", \"North Delhi\", \"North East Delhi\", \"North West Delhi\", \"South Delhi\", \"South West Delhi\", \"West Delhi\",\"Delhi\",'New Delhi','NEW DELHI','DELHI'], \"Goa\": [ \"North Goa\", \"South Goa\" ], \"Gujarat\": [ \"Ahmedabad\", \"Amreli district\", \"Anand\", \"Banaskantha\", \"Bharuch\", \"Bhavnagar\", \"Dahod\", \"The Dangs\", \"Gandhinagar\", \"Jamnagar\", \"Junagadh\", \"Kutch\", \"Kheda\", \"Mehsana\", \"Narmada\", \"Navsari\", \"Patan\", \"Panchmahal\", \"Porbandar\", \"Rajkot\", \"Sabarkantha\", \"Surendranagar\", \"Surat\", \"Vyara\", \"Vadodara\", \"Valsad\"], \"Haryana\": [ \"Ambala\", \"Bhiwani\", \"Faridabad\", \"Fatehabad\", \"Gurgaon\", \"Hissar\", \"Jhajjar\", \"Jind\", \"Karnal\", \"Kaithal\", \"Hisar\", \"Kurukshetra\", \"Mahendragarh\", \"Mewat\", \"Palwal\", \"Panchkula\", \"Panipat\", \"Rewari\", \"Rohtak\", \"Sirsa\", \"Sonipat\", \"Yamuna Nagar\"], \"Himachal Pradesh\": [ \"Bilaspur\", \"Chamba\", \"Hamirpur\", \"Kangra\", \"Kinnaur\", \"Kullu\", \"Lahaul and Spiti\", \"Mandi\", \"Shimla\", \"Sirmaur\", \"Solan\", \"Una\"], \"Jammu and Kashmir\": [ \"Anantnag\", \"Badgam\", \"Bandipora\", \"Baramulla\", \"Doda\", \"Ganderbal\", \"Jammu\", \"Kargil\", \"Kathua\", \"Kishtwar\", \"Kupwara\", \"Kulgam\", \"Leh\", \"Poonch\", \"Pulwama\", \"Rajauri\", \"Ramban\", \"Reasi\", \"Samba\", \"Shopian\", \"Srinagar\", \"Udhampur\"], \"Jharkhand\": [ \"Bokaro\", \"Chatra\", \"Deoghar\", \"Dhanbad\", \"Dumka\", \"East Singhbhum\", \"Garhwa\", \"Giridih\", \"Godda\", \"Gumla\", \"Hazaribag\", \"Jamtara\", \"Khunti\", \"Koderma\", \"Latehar\", \"Lohardaga\", \"Pakur\", \"Palamu\", \"Ramgarh\", \"Ranchi\", \"Sahibganj\", \"Seraikela Kharsawan\", \"Simdega\", \"West Singhbhum\"], \"Karnataka\": [ \"Bagalkot\", \"Bangalore Rural\", \"Bangalore Urban\", \"Belgaum\", \"Bellary\", \"Bidar\", \"Bijapur\", \"Chamarajnagar\", \"Chikkamagaluru\", \"Chikkaballapur\", \"Chitradurga\", \"Davanagere\", \"Dharwad\", \"Dakshina Kannada\", \"Gadag\", \"Gulbarga\", \"Hassan\", \"Haveri district\", \"Kodagu\", \"Kolar\", \"Koppal\", \"Mandya\", \"Mysore\", \"Raichur\", \"Shimoga\", \"Tumkur\", \"Udupi\", \"Uttara Kannada\", \"Ramanagara\", \"Yadgir\"], \"Kerala\": [ \"Alappuzha\", \"Ernakulam\", \"Idukki\", \"Kannur\", \"Kasaragod\", \"Kollam\", \"Kottayam\", \"Kozhikode\", \"Malappuram\", \"Palakkad\", \"Pathanamthitta\", \"Thrissur\", \"Thiruvananthapuram\", \"Wayanad\"], \"Madhya Pradesh\": [ \"Alirajpur\", \"Anuppur\", \"Ashok Nagar\", \"Balaghat\", \"Barwani\", \"Betul\", \"Bhind\", \"Bhopal\", \"Burhanpur\", \"Chhatarpur\", \"Chhindwara\", \"Damoh\", \"Datia\", \"Dewas\", \"Dhar\", \"Dindori\", \"Guna\", \"Gwalior\", \"Harda\", \"Hoshangabad\", \"Indore\", \"Jabalpur\", \"Jhabua\", \"Katni\", \"Khandwa (East Nimar)\", \"Khargone (West Nimar)\", \"Mandla\", \"Mandsaur\", \"Morena\", \"Narsinghpur\", \"Neemuch\", \"Panna\", \"Rewa\", \"Rajgarh\", \"Ratlam\", \"Raisen\", \"Sagar\", \"Satna\", \"Sehore\", \"Seoni\", \"Shahdol\", \"Shajapur\", \"Sheopur\", \"Shivpuri\", \"Sidhi\", \"Singrauli\", \"Tikamgarh\", \"Ujjain\", \"Umaria\", \"Vidisha\"], \"Maharashtra\": [ \"Ahmednagar\", \"Akola\", \"Amravati\", \"Aurangabad\", \"Bhandara\", \"Beed\", \"Buldhana\", \"Chandrapur\", \"Dhule\", \"Gadchiroli\", \"Gondia\", \"Hingoli\", \"Jalgaon\", \"Jalna\", \"Kolhapur\", \"Latur\", \"Mumbai City\", \"Mumbai suburban\", \"Nandurbar\", \"Nanded\", \"Nagpur\", \"Nashik\", \"Osmanabad\", \"Parbhani\", \"Pune\", \"Raigad\", \"Ratnagiri\", \"Sindhudurg\", \"Sangli\", \"Solapur\", \"Satara\", \"Thane\", \"Wardha\", \"Washim\", \"Yavatmal\"], \"Manipur\": [ \"Bishnupur\", \"Churachandpur\", \"Chandel\", \"Imphal East\", \"Senapati\", \"Tamenglong\", \"Thoubal\", \"Ukhrul\", \"Imphal West\"], \"Meghalaya\": [ \"East Garo Hills\", \"East Khasi Hills\", \"Jaintia Hills\", \"Ri Bhoi\", \"South Garo Hills\", \"West Garo Hills\", \"West Khasi Hills\"], \"Mizoram\": [ \"Aizawl\", \"Champhai\", \"Kolasib\", \"Lawngtlai\", \"Lunglei\", \"Mamit\", \"Saiha\", \"Serchhip\"], \"Nagaland\": [ \"Dimapur\", \"Kohima\", \"Mokokchung\", \"Mon\", \"Phek\", \"Tuensang\", \"Wokha\", \"Zunheboto\"], \"Orissa\": [ \"Angul\", \"Boudh (Bauda)\", \"Bhadrak\", \"Balangir\", \"Bargarh (Baragarh)\", \"Balasore\", \"Cuttack\", \"Debagarh (Deogarh)\", \"Dhenkanal\", \"Ganjam\", \"Gajapati\", \"Jharsuguda\", \"Jajpur\", \"Jagatsinghpur\", \"Khordha\", \"Kendujhar (Keonjhar)\", \"Kalahandi\", \"Kandhamal\", \"Koraput\", \"Kendrapara\", \"Malkangiri\", \"Mayurbhanj\", \"Nabarangpur\", \"Nuapada\", \"Nayagarh\", \"Puri\", \"Rayagada\", \"Sambalpur\", \"Subarnapur (Sonepur)\", \"Sundergarh\"], \"Puducherry\":[\"Pondicherry\",\"Yanam\",\"Mahe\",\"Karaikal\"],\"Punjab\": [ \"Amritsar\", \"Barnala\", \"Bathinda\", \"Firozpur\", \"Faridkot\", \"Fatehgarh Sahib\", \"Fazilka\", \"Gurdaspur\", \"Hoshiarpur\", \"Jalandhar\", \"Kapurthala\", \"Ludhiana\", \"Mansa\", \"Moga\", \"Sri Muktsar Sahib\", \"Pathankot\", \"Patiala\", \"Rupnagar\", \"Ajitgarh\",\"Mohali\", \"Sangrur\", \"Nawanshahr\", \"Tarn Taran\"], \"Rajasthan\": [ \"Ajmer\", \"Alwar\", \"Bikaner\", \"Barmer\", \"Banswara\", \"Bharatpur\", \"Baran\", \"Bundi\", \"Bhilwara\", \"Churu\", \"Chittorgarh\", \"Dausa\", \"Dholpur\", \"Dungapur\", \"Ganganagar\", \"Hanumangarh\", \"Jhunjhunu\", \"Jalore\", \"Jodhpur\", \"Jaipur\", \"Jaisalmer\", \"Jhalawar\", \"Karauli\", \"Kota\", \"Nagaur\", \"Pali\", \"Pratapgarh\", \"Rajsamand\", \"Sikar\", \"Sawai Madhopur\", \"Sirohi\", \"Tonk\", \"Udaipur\"], \"Sikkim\": [ \"East Sikkim\", \"North Sikkim\", \"South Sikkim\", \"West Sikkim\"], \"Tamil Nadu\": [ \"Ariyalur\", \"Chennai\", \"Coimbatore\", \"Cuddalore\", \"Dharmapuri\", \"Dindigul\", \"Erode\", \"Kanchipuram\", \"Kanyakumari\", \"Karur\", \"Madurai\", \"Nagapattinam\", \"Nilgiris\", \"Namakkal\", \"Perambalur\", \"Pudukkottai\", \"Ramanathapuram\", \"Salem\", \"Sivaganga\", \"Tirupur\", \"Tiruchirappalli\", \"Theni\", \"Tirunelveli\", \"Thanjavur\", \"Thoothukudi\", \"Tiruvallur\", \"Tiruvarur\", \"Tiruvannamalai\", \"Vellore\", \"Viluppuram\", \"Virudhunagar\"], \"Tripura\": [ \"Dhalai\", \"North Tripura\", \"South Tripura\", \"Khowai\", \"West Tripura\"], \"Uttar Pradesh\": [ \"Agra\", \"Allahabad\", \"Aligarh\", \"Ambedkar Nagar\", \"Auraiya\", \"Azamgarh\", \"Barabanki\", \"Budaun\", \"Bagpat\", \"Bahraich\", \"Bijnor\", \"Ballia\", \"Banda\", \"Balrampur\", \"Bareilly\", \"Basti\", \"Bulandshahr\", \"Chandauli\", \"Chhatrapati Shahuji Maharaj Nagar\", \"Chitrakoot\", \"Deoria\", \"Etah\", \"Kanshi Ram Nagar\", \"Etawah\", \"Firozabad\", \"Farrukhabad\", \"Fatehpur\", \"Faizabad\", \"Gautam Buddh Nagar\", \"Gonda\", \"Ghazipur\", \"Gorakhpur\", \"Ghaziabad\", \"Hamirpur\", \"Hardoi\", \"Mahamaya Nagar\", \"Jhansi\", \"Jalaun\", \"Jyotiba Phule Nagar\", \"Jaunpur district\", \"Ramabai Nagar (Kanpur Dehat)\", \"Kannauj\", \"Kanpur\", \"Kaushambi\", \"Kushinagar\", \"Lalitpur\", \"Lakhimpur Kheri\", \"Lucknow\", \"Mau\", \"Meerut\", \"Maharajganj\", \"Mahoba\", \"Mirzapur\", \"Moradabad\", \"Mainpuri\", \"Mathura\", \"Muzaffarnagar\", \"Panchsheel Nagar district (Hapur)\", \"Pilibhit\", \"Shamli\", \"Pratapgarh\", \"Rampur\", \"Raebareli\", \"Saharanpur\", \"Sitapur\", \"Shahjahanpur\", \"Sant Kabir Nagar\", \"Siddharthnagar\", \"Sonbhadra\", \"Sant Ravidas Nagar\", \"Sultanpur\", \"Shravasti\", \"Unnao\", \"Varanasi\"], \"Uttarakhand\": [ \"Almora\", \"Bageshwar\", \"Chamoli\", \"Champawat\", \"Dehradun\", \"Haridwar\", \"Nainital\", \"Pauri Garhwal\", \"Pithoragarh\", \"Rudraprayag\", \"Tehri Garhwal\", \"Udham Singh Nagar\", \"Uttarkashi\"], \"West Bengal\": [ \"Birbhum\", \"Bankura\", \"Bardhaman\", \"Darjeeling\", \"Dakshin Dinajpur\", \"Hooghly\", \"Howrah\", \"Jalpaiguri\", \"Cooch Behar\", \"Kolkata\", \"Maldah\", \"Paschim Medinipur\", \"Purba Medinipur\", \"Murshidabad\", \"Nadia\", \"North 24 Parganas\", \"South 24 Parganas\", \"Purulia\", \"Uttar Dinajpur\"]}"
   ]
  },
  {
   "cell_type": "code",
   "execution_count": 34,
   "metadata": {},
   "outputs": [],
   "source": [
    "def city_to_state(var):\n",
    "    for key,value in state_city.items():\n",
    "        for i in value:\n",
    "            if i==var:\n",
    "                return(key)\n",
    "            "
   ]
  },
  {
   "cell_type": "code",
   "execution_count": 35,
   "metadata": {},
   "outputs": [],
   "source": [
    "data[\"State Name\"]=data[\"Which city is your house at?\"].apply(city_to_state)"
   ]
  },
  {
   "cell_type": "code",
   "execution_count": 36,
   "metadata": {
    "scrolled": true
   },
   "outputs": [
    {
     "data": {
      "text/plain": [
       "[None,\n",
       " None,\n",
       " None,\n",
       " None,\n",
       " None,\n",
       " None,\n",
       " None,\n",
       " None,\n",
       " None,\n",
       " None,\n",
       " None,\n",
       " None,\n",
       " None,\n",
       " None,\n",
       " None,\n",
       " None,\n",
       " None,\n",
       " None,\n",
       " None,\n",
       " None,\n",
       " None,\n",
       " None,\n",
       " None,\n",
       " None,\n",
       " None,\n",
       " None,\n",
       " None,\n",
       " None,\n",
       " None,\n",
       " None,\n",
       " None,\n",
       " None,\n",
       " None,\n",
       " None,\n",
       " None,\n",
       " None,\n",
       " None,\n",
       " None,\n",
       " None,\n",
       " None,\n",
       " None,\n",
       " None,\n",
       " None,\n",
       " None,\n",
       " None,\n",
       " None,\n",
       " None,\n",
       " 'Andhra Pradesh',\n",
       " 'Andhra Pradesh',\n",
       " 'Andhra Pradesh',\n",
       " None,\n",
       " None,\n",
       " None,\n",
       " None,\n",
       " None,\n",
       " 'Andhra Pradesh',\n",
       " None,\n",
       " 'Andhra Pradesh',\n",
       " None,\n",
       " None,\n",
       " None,\n",
       " None,\n",
       " 'Andhra Pradesh',\n",
       " None,\n",
       " 'Andhra Pradesh',\n",
       " None,\n",
       " None,\n",
       " 'Andhra Pradesh',\n",
       " 'Kerala',\n",
       " 'Kerala',\n",
       " None,\n",
       " 'Kerala',\n",
       " None,\n",
       " 'Kerala',\n",
       " None,\n",
       " 'Kerala',\n",
       " None,\n",
       " 'Kerala',\n",
       " 'Kerala',\n",
       " 'Andhra Pradesh',\n",
       " 'Delhi',\n",
       " 'Bihar',\n",
       " None,\n",
       " 'Delhi',\n",
       " None,\n",
       " None,\n",
       " 'Andhra Pradesh',\n",
       " None,\n",
       " None,\n",
       " 'Maharashtra',\n",
       " None,\n",
       " None,\n",
       " None,\n",
       " None,\n",
       " 'Bihar',\n",
       " None,\n",
       " 'Maharashtra',\n",
       " 'Andhra Pradesh',\n",
       " 'Madhya Pradesh',\n",
       " 'Maharashtra',\n",
       " None,\n",
       " None,\n",
       " 'Delhi',\n",
       " 'Madhya Pradesh',\n",
       " None,\n",
       " None,\n",
       " 'Maharashtra',\n",
       " None,\n",
       " 'Delhi',\n",
       " 'Maharashtra',\n",
       " None,\n",
       " 'Maharashtra',\n",
       " None,\n",
       " 'Maharashtra',\n",
       " 'Gujarat',\n",
       " None,\n",
       " 'Madhya Pradesh',\n",
       " 'Maharashtra',\n",
       " None,\n",
       " None,\n",
       " None,\n",
       " None,\n",
       " 'Delhi',\n",
       " 'Maharashtra',\n",
       " None,\n",
       " None,\n",
       " None,\n",
       " None,\n",
       " 'Bihar',\n",
       " 'Maharashtra',\n",
       " None,\n",
       " None,\n",
       " None,\n",
       " None,\n",
       " None,\n",
       " 'Uttar Pradesh',\n",
       " None,\n",
       " 'Uttar Pradesh',\n",
       " None,\n",
       " None,\n",
       " 'Delhi',\n",
       " None,\n",
       " 'Delhi',\n",
       " 'Delhi',\n",
       " None,\n",
       " 'Delhi',\n",
       " 'Delhi',\n",
       " 'Delhi',\n",
       " None,\n",
       " None,\n",
       " 'Delhi',\n",
       " None,\n",
       " 'Maharashtra',\n",
       " None,\n",
       " None,\n",
       " None,\n",
       " None,\n",
       " None,\n",
       " None,\n",
       " None,\n",
       " None,\n",
       " 'Uttarakhand',\n",
       " None,\n",
       " 'Bihar',\n",
       " None,\n",
       " None,\n",
       " 'Bihar',\n",
       " 'Uttarakhand',\n",
       " 'Delhi',\n",
       " 'Bihar',\n",
       " None,\n",
       " 'Jharkhand',\n",
       " None,\n",
       " None,\n",
       " None,\n",
       " None,\n",
       " 'Bihar',\n",
       " 'Bihar',\n",
       " None,\n",
       " 'Bihar',\n",
       " None,\n",
       " None,\n",
       " 'Bihar',\n",
       " None,\n",
       " 'Bihar',\n",
       " 'Delhi',\n",
       " None,\n",
       " 'Delhi',\n",
       " None,\n",
       " None,\n",
       " None,\n",
       " 'Bihar',\n",
       " 'Bihar',\n",
       " None,\n",
       " 'Maharashtra',\n",
       " None,\n",
       " None,\n",
       " 'Bihar',\n",
       " 'Bihar',\n",
       " None,\n",
       " None,\n",
       " None,\n",
       " 'Bihar',\n",
       " None,\n",
       " None,\n",
       " 'Andhra Pradesh',\n",
       " None,\n",
       " 'Bihar',\n",
       " None,\n",
       " 'West Bengal',\n",
       " 'Bihar',\n",
       " 'Bihar',\n",
       " 'Madhya Pradesh',\n",
       " 'Bihar',\n",
       " 'Bihar',\n",
       " None,\n",
       " None,\n",
       " None,\n",
       " None,\n",
       " None,\n",
       " 'Uttarakhand',\n",
       " None,\n",
       " 'Bihar',\n",
       " None,\n",
       " None,\n",
       " None,\n",
       " None,\n",
       " None,\n",
       " 'Kerala',\n",
       " 'Kerala',\n",
       " None,\n",
       " None,\n",
       " None,\n",
       " 'Andhra Pradesh',\n",
       " None,\n",
       " None,\n",
       " 'Rajasthan',\n",
       " 'Kerala',\n",
       " None,\n",
       " None,\n",
       " None,\n",
       " None,\n",
       " 'Maharashtra',\n",
       " None,\n",
       " None,\n",
       " None,\n",
       " None,\n",
       " None,\n",
       " None,\n",
       " None,\n",
       " None,\n",
       " None,\n",
       " 'Andhra Pradesh',\n",
       " 'Punjab',\n",
       " None,\n",
       " None,\n",
       " 'Uttar Pradesh',\n",
       " 'Uttar Pradesh',\n",
       " 'Uttar Pradesh',\n",
       " 'Uttarakhand',\n",
       " 'Uttarakhand',\n",
       " None,\n",
       " None,\n",
       " None,\n",
       " None,\n",
       " None,\n",
       " None,\n",
       " None,\n",
       " 'Gujarat',\n",
       " None,\n",
       " None,\n",
       " None,\n",
       " None,\n",
       " 'Gujarat',\n",
       " 'Delhi',\n",
       " 'Delhi',\n",
       " 'Delhi',\n",
       " None,\n",
       " None,\n",
       " 'Uttarakhand',\n",
       " None,\n",
       " None,\n",
       " None,\n",
       " None,\n",
       " None,\n",
       " 'Delhi',\n",
       " None,\n",
       " 'Haryana',\n",
       " 'Uttarakhand',\n",
       " 'Uttar Pradesh',\n",
       " None,\n",
       " 'Rajasthan',\n",
       " None,\n",
       " 'Haryana',\n",
       " None,\n",
       " None,\n",
       " None,\n",
       " None,\n",
       " None,\n",
       " 'Rajasthan',\n",
       " None,\n",
       " 'Rajasthan',\n",
       " 'Rajasthan',\n",
       " None,\n",
       " None,\n",
       " None,\n",
       " 'Uttar Pradesh',\n",
       " 'Haryana',\n",
       " None,\n",
       " None,\n",
       " 'Kerala',\n",
       " 'Haryana',\n",
       " 'Delhi',\n",
       " 'Delhi',\n",
       " 'Delhi',\n",
       " 'Punjab',\n",
       " 'Andhra Pradesh',\n",
       " None,\n",
       " None,\n",
       " 'Andhra Pradesh',\n",
       " 'Delhi',\n",
       " 'Andhra Pradesh',\n",
       " 'Delhi',\n",
       " 'Andhra Pradesh',\n",
       " None,\n",
       " 'Haryana',\n",
       " None,\n",
       " 'Delhi',\n",
       " 'Delhi',\n",
       " 'Delhi',\n",
       " 'Delhi',\n",
       " 'Delhi',\n",
       " 'Delhi',\n",
       " 'Delhi',\n",
       " 'Delhi',\n",
       " None,\n",
       " 'Haryana',\n",
       " None,\n",
       " 'Haryana',\n",
       " None,\n",
       " 'Haryana',\n",
       " 'Haryana',\n",
       " None,\n",
       " None,\n",
       " None,\n",
       " None,\n",
       " 'Haryana',\n",
       " 'Haryana',\n",
       " None,\n",
       " None,\n",
       " None,\n",
       " 'Haryana',\n",
       " None,\n",
       " None,\n",
       " None,\n",
       " None,\n",
       " None,\n",
       " 'Haryana',\n",
       " 'Haryana',\n",
       " 'Haryana',\n",
       " None,\n",
       " 'Punjab',\n",
       " 'Delhi',\n",
       " None,\n",
       " None,\n",
       " 'Uttar Pradesh',\n",
       " 'Uttar Pradesh',\n",
       " 'Uttar Pradesh',\n",
       " 'Delhi',\n",
       " 'Delhi',\n",
       " 'Rajasthan',\n",
       " 'Delhi',\n",
       " None,\n",
       " 'Delhi',\n",
       " 'Rajasthan',\n",
       " None,\n",
       " None,\n",
       " 'Delhi',\n",
       " 'Haryana',\n",
       " 'Delhi',\n",
       " 'Haryana',\n",
       " 'Delhi',\n",
       " 'Haryana',\n",
       " 'Bihar',\n",
       " None,\n",
       " None,\n",
       " 'Haryana',\n",
       " None,\n",
       " 'Uttar Pradesh',\n",
       " None,\n",
       " 'Haryana',\n",
       " None,\n",
       " 'Uttar Pradesh',\n",
       " 'Uttar Pradesh',\n",
       " None,\n",
       " 'Delhi',\n",
       " 'Uttar Pradesh',\n",
       " 'Haryana',\n",
       " 'Haryana',\n",
       " None,\n",
       " 'Uttar Pradesh',\n",
       " 'Uttar Pradesh',\n",
       " 'Bihar',\n",
       " 'Delhi',\n",
       " 'Bihar',\n",
       " 'Uttar Pradesh',\n",
       " 'Uttar Pradesh',\n",
       " None,\n",
       " 'Bihar',\n",
       " 'Uttar Pradesh',\n",
       " None,\n",
       " 'Haryana',\n",
       " None,\n",
       " None,\n",
       " None,\n",
       " None,\n",
       " None,\n",
       " 'West Bengal',\n",
       " 'Uttar Pradesh',\n",
       " None,\n",
       " 'West Bengal',\n",
       " None,\n",
       " None,\n",
       " 'Uttar Pradesh',\n",
       " 'Uttar Pradesh',\n",
       " 'Haryana',\n",
       " None,\n",
       " None,\n",
       " None,\n",
       " 'Rajasthan',\n",
       " 'Rajasthan',\n",
       " 'Uttar Pradesh',\n",
       " None,\n",
       " None,\n",
       " 'Bihar',\n",
       " 'Bihar',\n",
       " None,\n",
       " 'Uttar Pradesh',\n",
       " None,\n",
       " None,\n",
       " None,\n",
       " None,\n",
       " None,\n",
       " None,\n",
       " 'Rajasthan',\n",
       " 'Bihar',\n",
       " None,\n",
       " None,\n",
       " None,\n",
       " None,\n",
       " 'Haryana',\n",
       " 'Haryana',\n",
       " None,\n",
       " None,\n",
       " None,\n",
       " 'Haryana',\n",
       " 'Haryana',\n",
       " 'Haryana',\n",
       " None,\n",
       " None,\n",
       " 'Delhi',\n",
       " 'Haryana',\n",
       " None,\n",
       " 'Rajasthan',\n",
       " 'Delhi',\n",
       " None,\n",
       " None,\n",
       " 'Bihar',\n",
       " 'Jharkhand',\n",
       " None,\n",
       " None,\n",
       " None,\n",
       " None,\n",
       " None,\n",
       " None,\n",
       " None,\n",
       " None,\n",
       " None,\n",
       " 'Bihar',\n",
       " None,\n",
       " None,\n",
       " None,\n",
       " None,\n",
       " 'Uttar Pradesh',\n",
       " None,\n",
       " None,\n",
       " None,\n",
       " 'Bihar',\n",
       " None,\n",
       " None,\n",
       " 'Uttar Pradesh',\n",
       " 'Gujarat',\n",
       " None,\n",
       " None,\n",
       " None,\n",
       " 'Bihar',\n",
       " None,\n",
       " None,\n",
       " 'Gujarat',\n",
       " 'Jharkhand',\n",
       " None,\n",
       " None,\n",
       " None,\n",
       " 'Jharkhand',\n",
       " 'Bihar',\n",
       " 'West Bengal',\n",
       " None,\n",
       " 'Rajasthan',\n",
       " None,\n",
       " None,\n",
       " None,\n",
       " 'Bihar',\n",
       " 'West Bengal',\n",
       " 'West Bengal',\n",
       " 'Jharkhand',\n",
       " None,\n",
       " 'Punjab',\n",
       " 'Punjab',\n",
       " 'Punjab',\n",
       " 'Punjab',\n",
       " None,\n",
       " None,\n",
       " 'Punjab',\n",
       " 'Jammu and Kashmir',\n",
       " None,\n",
       " None,\n",
       " 'Haryana',\n",
       " None,\n",
       " 'Punjab',\n",
       " None,\n",
       " None,\n",
       " 'Delhi',\n",
       " 'Punjab',\n",
       " 'Punjab',\n",
       " None,\n",
       " None,\n",
       " None,\n",
       " None,\n",
       " 'Punjab',\n",
       " 'Punjab',\n",
       " None,\n",
       " None,\n",
       " 'Punjab',\n",
       " None,\n",
       " None,\n",
       " 'Delhi',\n",
       " 'West Bengal',\n",
       " None,\n",
       " None,\n",
       " 'Rajasthan',\n",
       " 'Rajasthan',\n",
       " 'Rajasthan',\n",
       " 'Rajasthan',\n",
       " None,\n",
       " 'Punjab',\n",
       " 'Rajasthan',\n",
       " None,\n",
       " None,\n",
       " 'Uttar Pradesh',\n",
       " None,\n",
       " 'Uttar Pradesh',\n",
       " None,\n",
       " 'Uttar Pradesh',\n",
       " None,\n",
       " None,\n",
       " 'Rajasthan',\n",
       " 'Uttar Pradesh',\n",
       " 'Haryana',\n",
       " 'Bihar',\n",
       " 'Uttar Pradesh',\n",
       " None,\n",
       " None,\n",
       " None,\n",
       " 'Uttar Pradesh',\n",
       " None,\n",
       " None,\n",
       " 'Rajasthan',\n",
       " None,\n",
       " 'Uttar Pradesh',\n",
       " 'Delhi',\n",
       " None,\n",
       " None,\n",
       " 'Rajasthan',\n",
       " 'Rajasthan',\n",
       " 'Delhi',\n",
       " 'Delhi',\n",
       " None,\n",
       " 'Haryana',\n",
       " None,\n",
       " 'Rajasthan',\n",
       " None,\n",
       " 'Delhi',\n",
       " None,\n",
       " 'Bihar',\n",
       " 'Jharkhand',\n",
       " 'Rajasthan',\n",
       " 'Uttarakhand',\n",
       " 'Delhi',\n",
       " None,\n",
       " 'Uttar Pradesh',\n",
       " None,\n",
       " 'Uttar Pradesh',\n",
       " 'Uttar Pradesh',\n",
       " 'Bihar',\n",
       " 'Bihar',\n",
       " 'Maharashtra',\n",
       " None,\n",
       " None,\n",
       " None,\n",
       " 'Haryana',\n",
       " None,\n",
       " None,\n",
       " 'Delhi',\n",
       " None,\n",
       " 'Uttar Pradesh',\n",
       " 'Delhi',\n",
       " 'Uttar Pradesh',\n",
       " 'Delhi',\n",
       " 'Bihar',\n",
       " None,\n",
       " None,\n",
       " 'Uttar Pradesh',\n",
       " None,\n",
       " None,\n",
       " None,\n",
       " 'West Bengal',\n",
       " 'Punjab',\n",
       " None,\n",
       " None,\n",
       " 'Delhi',\n",
       " None,\n",
       " 'Delhi',\n",
       " 'Uttar Pradesh',\n",
       " None,\n",
       " None,\n",
       " None,\n",
       " 'Delhi',\n",
       " None,\n",
       " None,\n",
       " None,\n",
       " None,\n",
       " None,\n",
       " 'Bihar',\n",
       " None,\n",
       " None,\n",
       " 'Delhi',\n",
       " 'Delhi',\n",
       " None,\n",
       " None,\n",
       " 'Bihar',\n",
       " None,\n",
       " None,\n",
       " 'Jharkhand',\n",
       " 'Maharashtra',\n",
       " 'Gujarat',\n",
       " 'Delhi',\n",
       " None,\n",
       " 'Delhi',\n",
       " 'Delhi',\n",
       " None,\n",
       " None,\n",
       " 'Delhi',\n",
       " 'Bihar',\n",
       " None,\n",
       " 'Uttar Pradesh',\n",
       " 'Bihar',\n",
       " None,\n",
       " None,\n",
       " 'Gujarat',\n",
       " None,\n",
       " None,\n",
       " 'Delhi',\n",
       " None,\n",
       " 'Delhi',\n",
       " None,\n",
       " 'Delhi',\n",
       " 'Delhi',\n",
       " 'Delhi',\n",
       " 'Delhi',\n",
       " None,\n",
       " 'Delhi',\n",
       " 'Delhi',\n",
       " None,\n",
       " 'Delhi',\n",
       " 'Rajasthan',\n",
       " None,\n",
       " 'Delhi',\n",
       " None,\n",
       " None,\n",
       " 'Uttar Pradesh',\n",
       " None,\n",
       " None,\n",
       " None,\n",
       " None,\n",
       " None,\n",
       " 'Uttar Pradesh',\n",
       " None,\n",
       " None,\n",
       " None,\n",
       " 'Delhi',\n",
       " None,\n",
       " None,\n",
       " None,\n",
       " None,\n",
       " 'Maharashtra',\n",
       " None,\n",
       " None,\n",
       " None,\n",
       " None,\n",
       " None,\n",
       " 'Maharashtra',\n",
       " None,\n",
       " None,\n",
       " None,\n",
       " None,\n",
       " None,\n",
       " 'Delhi',\n",
       " None,\n",
       " None,\n",
       " None,\n",
       " None,\n",
       " 'Delhi',\n",
       " 'Delhi',\n",
       " None,\n",
       " None,\n",
       " 'Delhi',\n",
       " 'Uttar Pradesh',\n",
       " 'Delhi',\n",
       " None,\n",
       " None,\n",
       " 'Maharashtra',\n",
       " None,\n",
       " 'Delhi',\n",
       " None,\n",
       " None,\n",
       " None,\n",
       " None,\n",
       " 'Uttar Pradesh',\n",
       " None,\n",
       " None,\n",
       " None,\n",
       " 'Andhra Pradesh',\n",
       " 'Uttar Pradesh',\n",
       " 'Andhra Pradesh',\n",
       " None,\n",
       " 'Uttar Pradesh',\n",
       " None,\n",
       " 'Rajasthan',\n",
       " 'West Bengal',\n",
       " None,\n",
       " None,\n",
       " None,\n",
       " None,\n",
       " 'Chhattisgarh',\n",
       " 'Uttar Pradesh',\n",
       " 'Maharashtra',\n",
       " None,\n",
       " 'Madhya Pradesh',\n",
       " 'Uttar Pradesh',\n",
       " None,\n",
       " 'West Bengal',\n",
       " None,\n",
       " 'Maharashtra',\n",
       " None,\n",
       " 'Delhi',\n",
       " None,\n",
       " None,\n",
       " 'Delhi',\n",
       " None,\n",
       " 'Uttar Pradesh',\n",
       " 'West Bengal',\n",
       " 'Bihar',\n",
       " 'Maharashtra',\n",
       " None,\n",
       " 'Uttar Pradesh',\n",
       " None,\n",
       " None,\n",
       " None,\n",
       " None,\n",
       " None,\n",
       " None,\n",
       " None,\n",
       " 'Uttar Pradesh',\n",
       " None,\n",
       " None,\n",
       " None,\n",
       " 'Haryana',\n",
       " None,\n",
       " None,\n",
       " None,\n",
       " None,\n",
       " 'Uttar Pradesh',\n",
       " 'Jharkhand',\n",
       " None,\n",
       " None,\n",
       " None,\n",
       " None,\n",
       " None,\n",
       " None,\n",
       " None,\n",
       " None,\n",
       " 'West Bengal',\n",
       " None,\n",
       " None,\n",
       " 'Andhra Pradesh',\n",
       " None,\n",
       " 'Bihar',\n",
       " 'Delhi',\n",
       " None,\n",
       " 'Andhra Pradesh',\n",
       " 'West Bengal',\n",
       " None,\n",
       " None,\n",
       " 'Bihar',\n",
       " 'Andhra Pradesh',\n",
       " None,\n",
       " 'West Bengal',\n",
       " None,\n",
       " None,\n",
       " 'Bihar',\n",
       " None,\n",
       " 'Maharashtra',\n",
       " None,\n",
       " 'Andhra Pradesh',\n",
       " 'West Bengal',\n",
       " None,\n",
       " 'Andhra Pradesh',\n",
       " None,\n",
       " 'Andhra Pradesh',\n",
       " None,\n",
       " None,\n",
       " 'Andhra Pradesh',\n",
       " None,\n",
       " None,\n",
       " None,\n",
       " 'Gujarat',\n",
       " None,\n",
       " 'Chhattisgarh',\n",
       " 'Andhra Pradesh',\n",
       " 'Andhra Pradesh',\n",
       " None,\n",
       " 'Andhra Pradesh',\n",
       " 'Andhra Pradesh',\n",
       " None,\n",
       " None,\n",
       " 'Andhra Pradesh',\n",
       " 'Andhra Pradesh',\n",
       " 'Andhra Pradesh',\n",
       " None,\n",
       " 'Delhi',\n",
       " 'Andhra Pradesh',\n",
       " 'Uttar Pradesh',\n",
       " None,\n",
       " 'Andhra Pradesh',\n",
       " 'Bihar',\n",
       " None,\n",
       " None,\n",
       " None,\n",
       " None,\n",
       " 'Jharkhand',\n",
       " 'Rajasthan',\n",
       " None,\n",
       " None,\n",
       " None,\n",
       " None,\n",
       " 'Maharashtra',\n",
       " 'Maharashtra',\n",
       " 'Madhya Pradesh',\n",
       " 'Uttar Pradesh',\n",
       " 'Karnataka',\n",
       " None,\n",
       " None,\n",
       " None,\n",
       " None,\n",
       " 'Haryana',\n",
       " None,\n",
       " None,\n",
       " 'Tamil Nadu',\n",
       " 'Tamil Nadu',\n",
       " 'Tamil Nadu',\n",
       " None,\n",
       " 'Uttar Pradesh',\n",
       " None,\n",
       " None,\n",
       " 'Tamil Nadu',\n",
       " None,\n",
       " 'Andhra Pradesh',\n",
       " 'Delhi',\n",
       " 'Andhra Pradesh',\n",
       " 'Uttar Pradesh',\n",
       " 'Rajasthan',\n",
       " 'Madhya Pradesh',\n",
       " 'Delhi',\n",
       " 'Madhya Pradesh',\n",
       " None,\n",
       " 'Tamil Nadu',\n",
       " None,\n",
       " None,\n",
       " 'Tamil Nadu',\n",
       " None,\n",
       " None,\n",
       " 'Haryana',\n",
       " None,\n",
       " 'Andhra Pradesh',\n",
       " None,\n",
       " None,\n",
       " None,\n",
       " 'Maharashtra',\n",
       " None,\n",
       " None,\n",
       " None,\n",
       " 'Uttar Pradesh',\n",
       " 'Tamil Nadu',\n",
       " 'Tamil Nadu',\n",
       " None,\n",
       " 'West Bengal',\n",
       " 'Delhi',\n",
       " None,\n",
       " None,\n",
       " 'Maharashtra',\n",
       " 'Andhra Pradesh',\n",
       " None,\n",
       " 'Maharashtra',\n",
       " None,\n",
       " 'Andhra Pradesh',\n",
       " None,\n",
       " 'Andhra Pradesh',\n",
       " 'Andhra Pradesh',\n",
       " None,\n",
       " None,\n",
       " None,\n",
       " None,\n",
       " None,\n",
       " 'Delhi',\n",
       " 'Andhra Pradesh',\n",
       " 'Andhra Pradesh',\n",
       " None,\n",
       " 'Andhra Pradesh',\n",
       " 'Andhra Pradesh',\n",
       " 'Andhra Pradesh',\n",
       " None,\n",
       " 'Andhra Pradesh',\n",
       " 'Andhra Pradesh',\n",
       " None,\n",
       " 'Bihar',\n",
       " None,\n",
       " 'Delhi',\n",
       " None,\n",
       " 'Madhya Pradesh',\n",
       " 'Haryana',\n",
       " None,\n",
       " 'Delhi',\n",
       " 'Uttarakhand',\n",
       " None,\n",
       " 'Uttar Pradesh',\n",
       " 'Uttar Pradesh',\n",
       " None,\n",
       " 'Delhi',\n",
       " None,\n",
       " 'Haryana',\n",
       " 'Andhra Pradesh',\n",
       " None,\n",
       " None,\n",
       " None,\n",
       " None,\n",
       " 'Karnataka',\n",
       " None,\n",
       " 'Uttar Pradesh',\n",
       " 'Uttar Pradesh',\n",
       " 'Tamil Nadu',\n",
       " None,\n",
       " 'Assam',\n",
       " None,\n",
       " None,\n",
       " None,\n",
       " None,\n",
       " None,\n",
       " None,\n",
       " 'Delhi',\n",
       " None,\n",
       " None,\n",
       " None,\n",
       " 'Uttarakhand',\n",
       " None,\n",
       " None,\n",
       " None,\n",
       " 'West Bengal',\n",
       " 'Andhra Pradesh',\n",
       " None,\n",
       " 'Andhra Pradesh',\n",
       " None,\n",
       " None,\n",
       " None,\n",
       " 'Orissa',\n",
       " 'Uttar Pradesh',\n",
       " 'Uttar Pradesh',\n",
       " None,\n",
       " 'Andhra Pradesh',\n",
       " 'Tamil Nadu',\n",
       " 'Uttar Pradesh',\n",
       " ...]"
      ]
     },
     "execution_count": 36,
     "metadata": {},
     "output_type": "execute_result"
    }
   ],
   "source": [
    "state=list(data[\"State Name\"])\n",
    "state"
   ]
  },
  {
   "cell_type": "markdown",
   "metadata": {},
   "source": [
    "#### Renaming the output column 'What Power Backup do you use?' to 'Solar Panel Purchased or Not'"
   ]
  },
  {
   "cell_type": "code",
   "execution_count": null,
   "metadata": {},
   "outputs": [],
   "source": [
    "'''The data in the column is converted to 'Yes'or 'No' form'''\n",
    "\n",
    "def sorting(var):\n",
    "    if 'Solar' in var:\n",
    "        return 'Yes'\n",
    "    else:\n",
    "        return 'No'"
   ]
  },
  {
   "cell_type": "code",
   "execution_count": null,
   "metadata": {},
   "outputs": [],
   "source": [
    "data[\"Solar Panel Purchased or Not\"]=data[\"What Power Backup do you use? \"].apply(sorting)"
   ]
  },
  {
   "cell_type": "markdown",
   "metadata": {},
   "source": [
    "## SEPARATION & CONVERSION OF THE DATA"
   ]
  },
  {
   "cell_type": "code",
   "execution_count": null,
   "metadata": {},
   "outputs": [],
   "source": [
    "'''Conversion of categorical data to numerical data'''\n",
    "\n",
    "# Gathering categorical data columns\n",
    "categorical_data = data.iloc[:,[1,2,3,5,7,8,9,10,11,12,13,29,30,31,32,33,34,44,45,46,47,48,49,51]]\n",
    "\n",
    "# Creating dummy columns and concatenating with final data file\n",
    "dummy_columns = pd.get_dummies(categorical_data, drop_first=False)\n",
    "data = pd.concat([data,dummy_columns], axis=1)"
   ]
  },
  {
   "cell_type": "markdown",
   "metadata": {},
   "source": [
    "#### The categorical data has now been converted and has to be merged with the pre-existing numerical data"
   ]
  },
  {
   "cell_type": "code",
   "execution_count": null,
   "metadata": {},
   "outputs": [],
   "source": [
    "random_nparray = np.arange(54,140,1)\n",
    "categorical_data_columns = list(random_nparray)"
   ]
  },
  {
   "cell_type": "code",
   "execution_count": null,
   "metadata": {},
   "outputs": [],
   "source": [
    "numerical_data_columns = [6,14,15,16,17,18,20,21,22,23,24,25,26,27,28,35,36,37,38,39,40,41,42,43]"
   ]
  },
  {
   "cell_type": "code",
   "execution_count": null,
   "metadata": {},
   "outputs": [],
   "source": [
    "'''Combined Data'''\n",
    "\n",
    "combined_data = numerical_data_columns + categorical_data_columns"
   ]
  },
  {
   "cell_type": "markdown",
   "metadata": {},
   "source": [
    "#### Features and Output Separation"
   ]
  },
  {
   "cell_type": "code",
   "execution_count": null,
   "metadata": {},
   "outputs": [],
   "source": [
    "'''Input Data'''\n",
    "data_for_features = data.iloc[:,combined_data]\n",
    "data_for_features\n",
    "\n",
    "'''Output Data'''\n",
    "Y = data[\"Solar Panel Purchased or Not\"]"
   ]
  },
  {
   "cell_type": "markdown",
   "metadata": {},
   "source": [
    "## BALANCING THE DATA"
   ]
  },
  {
   "cell_type": "code",
   "execution_count": null,
   "metadata": {},
   "outputs": [],
   "source": [
    "'''Over Sampling the data'''\n",
    "\n",
    "smk = SMOTETomek(sampling_strategy=1)\n",
    "\n",
    "x_res, y_res = smk.fit_sample(data_for_features,Y)\n",
    "\n",
    "x_res.shape, y_res.shape"
   ]
  },
  {
   "cell_type": "markdown",
   "metadata": {},
   "source": [
    "## FOR SELECTING & EVALUATING BEST FEATURES FOR THE DATASET"
   ]
  },
  {
   "cell_type": "code",
   "execution_count": null,
   "metadata": {},
   "outputs": [],
   "source": [
    "bestfeatures = SelectKBest(score_func=chi2, k=20)\n",
    "\n",
    "fit = bestfeatures.fit(x_res,y_res)\n",
    "\n",
    "chi2scores = pd.DataFrame(fit.scores_)\n",
    "\n",
    "columns = pd.DataFrame(x_res.columns)"
   ]
  },
  {
   "cell_type": "markdown",
   "metadata": {},
   "source": [
    "#### Analyzing the features and its corresponding score"
   ]
  },
  {
   "cell_type": "code",
   "execution_count": null,
   "metadata": {},
   "outputs": [],
   "source": [
    "finaldemo = pd.concat([columns,chi2scores], axis=1)\n",
    "finaldemo.columns = ['Features','Score']\n",
    "\n",
    "imp_features=(finaldemo.nlargest(70,'Score'))\n",
    "print(imp_features)"
   ]
  },
  {
   "cell_type": "code",
   "execution_count": null,
   "metadata": {},
   "outputs": [],
   "source": [
    "'''Using the best features and corresponding data the dataset is further modified'''\n",
    "\n",
    "final_x_data = x_res[imp_features['Features']]\n",
    "final_target = y_res\n",
    "\n",
    "## NOTE: The final input data is stored in 'final_x_data' and the final output data is stored in 'final_target'"
   ]
  },
  {
   "cell_type": "markdown",
   "metadata": {},
   "source": [
    "## PREDICTING WHETHER THE CUSTOMER WOULD PURCHASE THE SOLAR PANEL OR NOT"
   ]
  },
  {
   "cell_type": "markdown",
   "metadata": {},
   "source": [
    "#### Splitting the data into train and test"
   ]
  },
  {
   "cell_type": "code",
   "execution_count": null,
   "metadata": {},
   "outputs": [],
   "source": [
    "x_train, x_test, y_train, y_test = model_selection.train_test_split(final_x_data, final_target, random_state=1)"
   ]
  },
  {
   "cell_type": "markdown",
   "metadata": {},
   "source": [
    "#### Applying Logistic Regression Classifier"
   ]
  },
  {
   "cell_type": "code",
   "execution_count": null,
   "metadata": {},
   "outputs": [],
   "source": [
    "classifier = LogisticRegression(max_iter=300,multi_class='ovr')\n",
    "classifier.fit(x_train,y_train)\n",
    "\n",
    "print(\"Train Score: \", classifier.score(x_train,y_train))\n",
    "print(\"Test Score: \", classifier.score(x_test,y_test))\n",
    "\n",
    "## Predicted results\n",
    "y_test_pred = classifier.predict(x_test)"
   ]
  },
  {
   "cell_type": "code",
   "execution_count": null,
   "metadata": {},
   "outputs": [],
   "source": [
    "# Evaluation of the result using Confusion Matrix\n",
    "confusion_matrix(y_test,y_test_pred, labels=[\"Yes\", \"No\"])"
   ]
  },
  {
   "cell_type": "markdown",
   "metadata": {},
   "source": [
    "#### Applying Random Forest Classifier"
   ]
  },
  {
   "cell_type": "code",
   "execution_count": null,
   "metadata": {},
   "outputs": [],
   "source": [
    "clf = RandomForestClassifier(random_state=1, n_estimators=250, criterion='gini', n_jobs=-1)\n",
    "clf.fit(x_train, y_train)\n",
    "\n",
    "cross_val = cross_val_score(clf, x_train, y_train, cv=10, n_jobs=-1)\n",
    "print ('Cross Validation Mean Result: ',cross_val.mean())\n",
    "\n",
    "# Predicted Results\n",
    "y_pred = clf.predict(x_test)\n",
    "\n",
    "print(\"Test Score: \", clf.score(x_test,y_test))"
   ]
  },
  {
   "cell_type": "code",
   "execution_count": null,
   "metadata": {},
   "outputs": [],
   "source": [
    "# Evaluation of the result using Confusion Matrix\n",
    "confusion_matrix(y_test,y_pred)"
   ]
  },
  {
   "cell_type": "code",
   "execution_count": null,
   "metadata": {},
   "outputs": [],
   "source": [
    "# Analyzing the Classification Report\n",
    "print(classification_report(y_test,y_pred))"
   ]
  },
  {
   "cell_type": "markdown",
   "metadata": {},
   "source": [
    "## DATA VISUALIZATION"
   ]
  },
  {
   "cell_type": "markdown",
   "metadata": {},
   "source": [
    "#### Extracting Important Feature and Analyzing them"
   ]
  },
  {
   "cell_type": "code",
   "execution_count": null,
   "metadata": {},
   "outputs": [],
   "source": [
    "list_of_features=[]\n",
    "count=0\n",
    "imp=tuple(imp_features['Features'])\n",
    "for i in imp:\n",
    "    if count==10:\n",
    "        break\n",
    "    else:\n",
    "        list_of_features.append(i)\n",
    "        count+=1"
   ]
  },
  {
   "cell_type": "code",
   "execution_count": null,
   "metadata": {},
   "outputs": [],
   "source": [
    "age_tuple=tuple(data['Age '])\n",
    "marital_tuple=tuple(data['Marital Status'])\n",
    "gender_tuple=tuple(data['Gender'])\n",
    "salary_tuple=tuple(data[\"What is the range of your family's average monthly earnings?\"])\n",
    "google_tuple=tuple(data['Rate the following websites in terms of your usage time [Google]'])\n",
    "facebook_tuple=tuple(data['Rate the following websites in terms of your usage time [Facebook]'])\n",
    "whatsapp_tuple=tuple(data['Rate the following websites in terms of your usage time [Whatsapp]'])\n",
    "youtube_tuple=tuple(data['Rate the following websites in terms of your usage time [Youtube]'])\n",
    "\n",
    "#-----x------\n",
    "\n",
    "ac_tuple=tuple(data['What are your appliances brands?  [AC]'])\n",
    "roof_tuple=tuple(data['What percentage of your roof are you ready to give for solar?'])\n",
    "refrigerator_tuple=tuple(data['What are your appliances brands?  [Refrigerator]'])\n",
    "vehicle4_tuple=tuple(data['How many of the below vehicles do you own? [4-Wheelers]'])\n",
    "vehicle2_tuple=tuple(data['How many of the below vehicles do you own? [2-Wheelers]'])\n",
    "floors_tuple=tuple(data['Number of Floors in House'])\n",
    "rooms_tuple=tuple(data['No of Rooms in your house '])"
   ]
  },
  {
   "cell_type": "code",
   "execution_count": null,
   "metadata": {},
   "outputs": [],
   "source": [
    "age_n={}\n",
    "age_y={}\n",
    "\n",
    "marital_n={}\n",
    "marital_y={}\n",
    "\n",
    "gender_n={}\n",
    "gender_y={}\n",
    "\n",
    "salary_n={}\n",
    "salary_y={}\n",
    "\n",
    "google_n={}\n",
    "google_y={}\n",
    "\n",
    "facebook_n={}\n",
    "facebook_y={}\n",
    "\n",
    "whatsapp_n={}\n",
    "whatsapp_y={}\n",
    "\n",
    "youtube_n={}\n",
    "youtube_y={}\n",
    "\n",
    "ac_n={}\n",
    "ac_y={}\n",
    "\n",
    "roof_n={}\n",
    "roof_y={}\n",
    "\n",
    "refrigerator_n={}\n",
    "refrigerator_y={}\n",
    "\n",
    "vehicle4_n={}\n",
    "vehicle4_y={}\n",
    "\n",
    "vehicle2_n={}\n",
    "vehicle2_y={}\n",
    "\n",
    "floors_n={}\n",
    "floors_y={}\n",
    "\n",
    "rooms_n={}\n",
    "rooms_y={}\n",
    "\n",
    "#solar_y_n=tuple(data['Solar Panel Purchased or Not'])"
   ]
  },
  {
   "cell_type": "markdown",
   "metadata": {},
   "source": [
    "#### ANALYZING EACH FACTOR AND ASSESSING THE OUTPUTS CONCERNING WHETHER THE CUSTOMER PURCHASES THE SOLAR PANEL OR NOT"
   ]
  },
  {
   "cell_type": "markdown",
   "metadata": {},
   "source": [
    "AGE"
   ]
  },
  {
   "cell_type": "code",
   "execution_count": null,
   "metadata": {},
   "outputs": [],
   "source": [
    "for i,j in zip(age_tuple,solar_y_n):\n",
    "    if j=='No':\n",
    "        if i in age_n:\n",
    "            age_n[i]+=1\n",
    "        else:\n",
    "            age_n[i]=1\n",
    "            \n",
    "    elif j=='Yes':\n",
    "        if i in age_y:\n",
    "            age_y[i]+=1\n",
    "        else:\n",
    "            age_y[i]=1\n",
    "            \n",
    "age_y,age_n"
   ]
  },
  {
   "cell_type": "code",
   "execution_count": null,
   "metadata": {},
   "outputs": [],
   "source": [
    "x1=np.arange(0,4,1)"
   ]
  },
  {
   "cell_type": "code",
   "execution_count": null,
   "metadata": {},
   "outputs": [],
   "source": [
    "plt.bar(x1,age_y.values(),width=0.3,label=\"Number of YES\", color=\"lightblue\")\n",
    "plt.bar(x1+0.3,age_n.values(),width=0.3,label=\"Number of NO\", color=\"pink\")\n",
    "plt.xticks(x1,age_n.keys())\n",
    "plt.xlabel(\"Age Groups\")\n",
    "plt.ylabel(\"Number of Customers\")\n",
    "plt.title(\"Age Groups v/s No. of Customers\")\n",
    "plt.ylim(0,3000)\n",
    "plt.legend()\n",
    "plt.show()"
   ]
  },
  {
   "cell_type": "markdown",
   "metadata": {},
   "source": [
    "MARITAL STATUS"
   ]
  },
  {
   "cell_type": "code",
   "execution_count": null,
   "metadata": {},
   "outputs": [],
   "source": [
    "for i,j in zip(marital_tuple,solar_y_n):\n",
    "    if j=='No':\n",
    "        if i in marital_n:\n",
    "            marital_n[i]+=1\n",
    "        else:\n",
    "            marital_n[i]=1\n",
    "            \n",
    "    elif j=='Yes':\n",
    "        if i in marital_y:\n",
    "            marital_y[i]+=1\n",
    "        else:\n",
    "            marital_y[i]=1\n",
    "            \n",
    "marital_y,marital_n"
   ]
  },
  {
   "cell_type": "code",
   "execution_count": null,
   "metadata": {},
   "outputs": [],
   "source": [
    "x2=np.arange(0,3,1)"
   ]
  },
  {
   "cell_type": "code",
   "execution_count": null,
   "metadata": {},
   "outputs": [],
   "source": [
    "plt.bar(x2,marital_y.values(),width=0.3,label=\"Number of YES\", color=\"lightblue\")\n",
    "plt.bar(x2+0.3,marital_n.values(),width=0.3,label=\"Number of NO\", color=\"pink\")\n",
    "plt.xticks(x2,marital_n.keys())\n",
    "plt.xlabel(\"Marital Status\")\n",
    "plt.ylabel(\"Number of Customers\")\n",
    "plt.title(\"Marital Status v/s No. of Customers\")\n",
    "plt.legend()\n",
    "plt.show()"
   ]
  },
  {
   "cell_type": "markdown",
   "metadata": {},
   "source": [
    "GENDER"
   ]
  },
  {
   "cell_type": "code",
   "execution_count": null,
   "metadata": {},
   "outputs": [],
   "source": [
    "for i,j in zip(gender_tuple,solar_y_n):\n",
    "    if j=='No':\n",
    "        if i in gender_n:\n",
    "            gender_n[i]+=1\n",
    "        else:\n",
    "            gender_n[i]=1\n",
    "            \n",
    "    elif j=='Yes':\n",
    "        if i in gender_y:\n",
    "            gender_y[i]+=1\n",
    "        else:\n",
    "            gender_y[i]=1\n",
    "            \n",
    "sorted(gender_y.values())\n",
    "            \n",
    "gender_y,gender_n"
   ]
  },
  {
   "cell_type": "code",
   "execution_count": null,
   "metadata": {},
   "outputs": [],
   "source": [
    "gender_y={'Female': 86,'Male': 173}"
   ]
  },
  {
   "cell_type": "code",
   "execution_count": null,
   "metadata": {},
   "outputs": [],
   "source": [
    "x3=np.arange(0,2,1)\n",
    "\n",
    "plt.bar(x3,gender_y.values(),width=0.3,label=\"Number of YES\", color=\"lightblue\")\n",
    "plt.bar(x3+0.3,gender_n.values(),width=0.3,label=\"Number of NO\", color=\"pink\")\n",
    "plt.xticks(x3,gender_n.keys())\n",
    "plt.xlabel(\"Gender\")\n",
    "plt.ylabel(\"Number of Customers\")\n",
    "plt.title(\"Gender v/s No. of Customers\")\n",
    "plt.legend()\n",
    "plt.show()"
   ]
  },
  {
   "cell_type": "markdown",
   "metadata": {},
   "source": [
    "SALARY"
   ]
  },
  {
   "cell_type": "code",
   "execution_count": null,
   "metadata": {},
   "outputs": [],
   "source": [
    "for i,j in zip(salary_tuple,solar_y_n):\n",
    "    if j=='No':\n",
    "        if i in salary_n:\n",
    "            salary_n[i]+=1\n",
    "        else:\n",
    "            salary_n[i]=1\n",
    "            \n",
    "    elif j=='Yes':\n",
    "        if i in salary_y:\n",
    "            salary_y[i]+=1\n",
    "        else:\n",
    "            salary_y[i]=1\n",
    "            \n",
    "salary_y,salary_n"
   ]
  },
  {
   "cell_type": "code",
   "execution_count": null,
   "metadata": {},
   "outputs": [],
   "source": [
    "c={}\n",
    "for key in salary_y.keys():\n",
    "    val=salary_n[key]\n",
    "    c[key]=val"
   ]
  },
  {
   "cell_type": "code",
   "execution_count": null,
   "metadata": {},
   "outputs": [],
   "source": [
    "x4=np.arange(0,4,1)\n",
    "\n",
    "plt.bar(x4,salary_y.values(),width=0.3,label=\"Number of YES\", color=\"lightblue\")\n",
    "plt.bar(x4+0.3,c.values(),width=0.3,label=\"Number of NO\", color=\"pink\")\n",
    "plt.xticks(x4,c.keys())\n",
    "plt.xlabel(\"Salary Range\")\n",
    "plt.ylabel(\"Number of Customers\")\n",
    "plt.title(\"Salary Range v/s No. of Customers\")\n",
    "plt.legend()\n",
    "plt.show()"
   ]
  },
  {
   "cell_type": "markdown",
   "metadata": {},
   "source": [
    "GOOGLE USAGE TIME RATINGS"
   ]
  },
  {
   "cell_type": "code",
   "execution_count": null,
   "metadata": {},
   "outputs": [],
   "source": [
    "for i,j in zip(google_tuple,solar_y_n):\n",
    "    if j=='No':\n",
    "        if i in google_n:\n",
    "            google_n[i]+=1\n",
    "        else:\n",
    "            google_n[i]=1\n",
    "            \n",
    "    elif j=='Yes':\n",
    "        if i in google_y:\n",
    "            google_y[i]+=1\n",
    "        else:\n",
    "            google_y[i]=1\n",
    "            \n",
    "google_y,google_n"
   ]
  },
  {
   "cell_type": "code",
   "execution_count": null,
   "metadata": {},
   "outputs": [],
   "source": [
    "google_y={1: 74, 2: 35,3: 63, 4: 38, 5: 49}"
   ]
  },
  {
   "cell_type": "code",
   "execution_count": null,
   "metadata": {},
   "outputs": [],
   "source": [
    "c={}\n",
    "for key in google_y.keys():\n",
    "    val=google_n[key]\n",
    "    c[key]=val"
   ]
  },
  {
   "cell_type": "code",
   "execution_count": null,
   "metadata": {},
   "outputs": [],
   "source": [
    "x5=np.arange(0,5,1)\n",
    "\n",
    "plt.bar(x5,google_y.values(),width=0.3,label=\"Number of YES\", color=\"lightblue\")\n",
    "plt.bar(x5+0.3,c.values(),width=0.3,label=\"Number of NO\", color=\"pink\")\n",
    "plt.xticks(x5,c.keys())\n",
    "plt.xlabel(\"Ratings\")\n",
    "plt.ylabel(\"Number of Customers\")\n",
    "plt.title(\"Google Usage Time Ratings v/s No. of Customers\")\n",
    "\n",
    "plt.legend()\n",
    "plt.show()"
   ]
  },
  {
   "cell_type": "markdown",
   "metadata": {},
   "source": [
    "FACEBOOK USAGE TIME RATING"
   ]
  },
  {
   "cell_type": "code",
   "execution_count": null,
   "metadata": {},
   "outputs": [],
   "source": [
    "for i,j in zip(facebook_tuple,solar_y_n):\n",
    "    if j=='No':\n",
    "        if i in facebook_n:\n",
    "            facebook_n[i]+=1\n",
    "        else:\n",
    "            facebook_n[i]=1\n",
    "            \n",
    "    elif j=='Yes':\n",
    "        if i in facebook_y:\n",
    "            facebook_y[i]+=1\n",
    "        else:\n",
    "            facebook_y[i]=1\n",
    "            \n",
    "facebook_y,facebook_n"
   ]
  },
  {
   "cell_type": "code",
   "execution_count": null,
   "metadata": {},
   "outputs": [],
   "source": [
    "facebook_y={1: 85, 2: 64,3: 54, 4: 43, 5: 13}"
   ]
  },
  {
   "cell_type": "code",
   "execution_count": null,
   "metadata": {},
   "outputs": [],
   "source": [
    "ac={}\n",
    "for key in facebook_y.keys():\n",
    "    val=facebook_n[key]\n",
    "    ac[key]=val"
   ]
  },
  {
   "cell_type": "code",
   "execution_count": null,
   "metadata": {},
   "outputs": [],
   "source": [
    "x5=np.arange(0,5,1)\n",
    "\n",
    "plt.bar(x5,facebook_y.values(),width=0.3,label=\"Number of YES\", color=\"lightblue\")\n",
    "plt.bar(x5+0.3,ac.values(),width=0.3,label=\"Number of NO\", color=\"pink\")\n",
    "plt.xticks(x5,ac.keys())\n",
    "plt.xlabel(\"Ratings\")\n",
    "plt.ylabel(\"Number of Customers\")\n",
    "plt.title(\"Facebook Usage Time Ratings v/s No. of Customers\")\n",
    "plt.legend()\n",
    "plt.show()"
   ]
  },
  {
   "cell_type": "markdown",
   "metadata": {},
   "source": [
    "WHATSAPP USAGE TIME RATINGS"
   ]
  },
  {
   "cell_type": "code",
   "execution_count": null,
   "metadata": {},
   "outputs": [],
   "source": [
    "for i,j in zip(whatsapp_tuple,solar_y_n):\n",
    "    if j=='No':\n",
    "        if i in whatsapp_n:\n",
    "            whatsapp_n[i]+=1\n",
    "        else:\n",
    "            whatsapp_n[i]=1\n",
    "            \n",
    "    elif j=='Yes':\n",
    "        if i in whatsapp_y:\n",
    "            whatsapp_y[i]+=1\n",
    "        else:\n",
    "            whatsapp_y[i]=1\n",
    "            \n",
    "whatsapp_y,whatsapp_n"
   ]
  },
  {
   "cell_type": "code",
   "execution_count": null,
   "metadata": {},
   "outputs": [],
   "source": [
    "whatsapp_y={1: 65,2: 48, 3: 66, 4: 47, 5: 33}\n",
    "whatsapp_n={1: 928, 2: 718,3: 1188, 4: 941, 5: 741}"
   ]
  },
  {
   "cell_type": "code",
   "execution_count": null,
   "metadata": {},
   "outputs": [],
   "source": [
    "x5=np.arange(0,5,1)\n",
    "\n",
    "plt.bar(x5,whatsapp_y.values(),width=0.3,label=\"Number of YES\", color=\"lightblue\")\n",
    "plt.bar(x5+0.3,whatsapp_n.values(),width=0.3,label=\"Number of NO\", color=\"pink\")\n",
    "plt.xticks(x5,whatsapp_n.keys())\n",
    "plt.xlabel(\"Ratings\")\n",
    "plt.ylabel(\"Number of Customers\")\n",
    "plt.title(\"Whatsapp Usage Time Ratings v/s No. of Customers\")\n",
    "plt.legend()\n",
    "plt.show()"
   ]
  },
  {
   "cell_type": "markdown",
   "metadata": {},
   "source": [
    "YOUTUBE USAGE TIME RATING"
   ]
  },
  {
   "cell_type": "code",
   "execution_count": null,
   "metadata": {},
   "outputs": [],
   "source": [
    "for i,j in zip(youtube_tuple,solar_y_n):\n",
    "    if j=='No':\n",
    "        if i in youtube_n:\n",
    "            youtube_n[i]+=1\n",
    "        else:\n",
    "            youtube_n[i]=1\n",
    "            \n",
    "    elif j=='Yes':\n",
    "        if i in youtube_y:\n",
    "            youtube_y[i]+=1\n",
    "        else:\n",
    "            youtube_y[i]=1\n",
    "            \n",
    "youtube_y,youtube_n"
   ]
  },
  {
   "cell_type": "code",
   "execution_count": null,
   "metadata": {},
   "outputs": [],
   "source": [
    "youtube_y={1: 58, 2: 44, 3: 72, 4: 60, 5: 25}\n",
    "youtube_n={1: 724,2: 914, 3: 1286, 4: 1071, 5: 521}"
   ]
  },
  {
   "cell_type": "code",
   "execution_count": null,
   "metadata": {},
   "outputs": [],
   "source": [
    "x5=np.arange(0,5,1)\n",
    "\n",
    "plt.bar(x5,youtube_y.values(),width=0.3,label=\"Number of YES\", color=\"lightblue\")\n",
    "plt.bar(x5+0.3,youtube_n.values(),width=0.3,label=\"Number of NO\", color=\"pink\")\n",
    "plt.xticks(x5,youtube_n.keys())\n",
    "plt.xlabel(\"Ratings\")\n",
    "plt.ylabel(\"Number of Customers\")\n",
    "plt.title(\"Youtube Usage Time Ratings v/s No. of Customers\")\n",
    "plt.legend()\n",
    "plt.show()"
   ]
  },
  {
   "cell_type": "markdown",
   "metadata": {},
   "source": [
    "BRAND OF AIR CONDITIONER USED BY THE CUSTOMERS"
   ]
  },
  {
   "cell_type": "code",
   "execution_count": null,
   "metadata": {},
   "outputs": [],
   "source": [
    "for i,j in zip(ac_tuple,solar_y_n):\n",
    "    if j=='No':\n",
    "        if i in ac_n:\n",
    "            ac_n[i]+=1\n",
    "        else:\n",
    "            ac_n[i]=1\n",
    "            \n",
    "    elif j=='Yes':\n",
    "        if i in ac_y:\n",
    "            ac_y[i]+=1\n",
    "        else:\n",
    "            ac_y[i]=1\n",
    "            \n",
    "ac_y,ac_n"
   ]
  },
  {
   "cell_type": "code",
   "execution_count": null,
   "metadata": {},
   "outputs": [],
   "source": [
    "aca={}\n",
    "for key in ac_y.keys():\n",
    "    val=ac_n[key]\n",
    "    aca[key]=val"
   ]
  },
  {
   "cell_type": "code",
   "execution_count": null,
   "metadata": {},
   "outputs": [],
   "source": [
    "x6=np.arange(0,12,1)\n",
    "\n",
    "plt.bar(x6,ac_y.values(),width=0.3,label=\"Number of YES\", color=\"lightblue\")\n",
    "plt.bar(x6+0.3,aca.values(),width=0.3,label=\"Number of NO\", color=\"pink\")\n",
    "plt.xticks(x6,aca.keys())\n",
    "plt.xlabel(\"AC Brands\")\n",
    "plt.ylabel(\"Number of Customers\")\n",
    "plt.title(\"AC Brands Customer Owns v/s No. of Customers\")\n",
    "plt.xticks(rotation=40)\n",
    "\n",
    "plt.legend()\n",
    "plt.show()"
   ]
  },
  {
   "cell_type": "markdown",
   "metadata": {},
   "source": [
    "ROOF SIZE OF THE HOUSE"
   ]
  },
  {
   "cell_type": "code",
   "execution_count": null,
   "metadata": {},
   "outputs": [],
   "source": [
    "for i,j in zip(roof_tuple,solar_y_n):\n",
    "    if j=='No':\n",
    "        if i in roof_n:\n",
    "            roof_n[i]+=1\n",
    "        else:\n",
    "            roof_n[i]=1\n",
    "            \n",
    "    elif j=='Yes':\n",
    "        if i in roof_y:\n",
    "            roof_y[i]+=1\n",
    "        else:\n",
    "            roof_y[i]=1\n",
    "            \n",
    "roof_y,roof_n"
   ]
  },
  {
   "cell_type": "code",
   "execution_count": null,
   "metadata": {},
   "outputs": [],
   "source": [
    "x7=np.arange(0,4,1)\n",
    "\n",
    "plt.bar(x7,roof_y.values(),width=0.3,label=\"Number of YES\", color=\"lightblue\")\n",
    "plt.bar(x7+0.3,roof_n.values(),width=0.3,label=\"Number of NO\", color=\"pink\")\n",
    "plt.xticks(x7,roof_n.keys())\n",
    "plt.xlabel(\"Percentage of Roof Area to be given to Solar Panels\")\n",
    "plt.ylabel(\"Number of Customers\")\n",
    "plt.title(\"Percentage of Roof Area to be given to Solar Panels v/s No. of Customers\")\n",
    "plt.legend()\n",
    "plt.show()"
   ]
  },
  {
   "cell_type": "markdown",
   "metadata": {},
   "source": [
    "REFRIGERATOR BRAND USED BY THE CUSTOMERS"
   ]
  },
  {
   "cell_type": "code",
   "execution_count": null,
   "metadata": {},
   "outputs": [],
   "source": [
    "for i,j in zip(refrigerator_tuple,solar_y_n):\n",
    "    if j=='No':\n",
    "        if i in refrigerator_n:\n",
    "            refrigerator_n[i]+=1\n",
    "        else:\n",
    "            refrigerator_n[i]=1\n",
    "            \n",
    "    elif j=='Yes':\n",
    "        if i in refrigerator_y:\n",
    "            refrigerator_y[i]+=1\n",
    "        else:\n",
    "            refrigerator_y[i]=1\n",
    "            \n",
    "refrigerator_y,refrigerator_n"
   ]
  },
  {
   "cell_type": "code",
   "execution_count": null,
   "metadata": {},
   "outputs": [],
   "source": [
    "acb={}\n",
    "for key in refrigerator_y.keys():\n",
    "    val=refrigerator_n[key]\n",
    "    acb[key]=val"
   ]
  },
  {
   "cell_type": "code",
   "execution_count": null,
   "metadata": {},
   "outputs": [],
   "source": [
    "x8=np.arange(0,12,1)\n",
    "\n",
    "plt.bar(x8,refrigerator_y.values(),width=0.3,label=\"Number of YES\", color=\"lightblue\")\n",
    "plt.bar(x8+0.3,acb.values(),width=0.3,label=\"Number of NO\", color=\"pink\")\n",
    "plt.xticks(x8,acb.keys())\n",
    "plt.xlabel(\"Refrigerator Brand\")\n",
    "plt.ylabel(\"Number of Customers\")\n",
    "plt.title(\"Refrigerator Brand owned by Customer v/s No. of Customers\")\n",
    "plt.xticks(rotation=40)\n",
    "\n",
    "plt.legend()\n",
    "plt.show()"
   ]
  },
  {
   "cell_type": "markdown",
   "metadata": {},
   "source": [
    "NUMBER OF FOUR-WHEELER VEHICLE OWNED BY THE CUSTOMERS"
   ]
  },
  {
   "cell_type": "code",
   "execution_count": null,
   "metadata": {},
   "outputs": [],
   "source": [
    "for i,j in zip(vehicle4_tuple,solar_y_n):\n",
    "    if j=='No':\n",
    "        if i in vehicle4_n:\n",
    "            vehicle4_n[i]+=1\n",
    "        else:\n",
    "            vehicle4_n[i]=1\n",
    "            \n",
    "    elif j=='Yes':\n",
    "        if i in vehicle4_y:\n",
    "            vehicle4_y[i]+=1\n",
    "        else:\n",
    "            vehicle4_y[i]=1\n",
    "            \n",
    "vehicle4_y,vehicle4_n"
   ]
  },
  {
   "cell_type": "code",
   "execution_count": null,
   "metadata": {},
   "outputs": [],
   "source": [
    "x8=np.arange(0,5,1)\n",
    "\n",
    "plt.bar(x8,vehicle4_y.values(),width=0.3,label=\"Number of YES\", color=\"lightblue\")\n",
    "plt.bar(x8+0.3,vehicle4_n.values(),width=0.3,label=\"Number of NO\", color=\"pink\")\n",
    "plt.xticks(x8,vehicle4_n.keys())\n",
    "plt.xlabel(\"Number of 4-Wheeler Vehicles owned by Customer\")\n",
    "plt.ylabel(\"Number of Customers\")\n",
    "plt.title(\"Number of 4-Wheeler Vehicles owned by Customer v/s No. of Customers\")\n",
    "\n",
    "\n",
    "plt.legend()\n",
    "plt.show()"
   ]
  },
  {
   "cell_type": "markdown",
   "metadata": {},
   "source": [
    "NUMBER OF TWO-WHEELER VEHICLE OWNED BY THE CUSTOMERS"
   ]
  },
  {
   "cell_type": "code",
   "execution_count": null,
   "metadata": {},
   "outputs": [],
   "source": [
    "for i,j in zip(vehicle2_tuple,solar_y_n):\n",
    "    if j=='No':\n",
    "        if i in vehicle2_n:\n",
    "            vehicle2_n[i]+=1\n",
    "        else:\n",
    "            vehicle2_n[i]=1\n",
    "            \n",
    "    elif j=='Yes':\n",
    "        if i in vehicle2_y:\n",
    "            vehicle2_y[i]+=1\n",
    "        else:\n",
    "            vehicle2_y[i]=1\n",
    "            \n",
    "vehicle2_y,vehicle2_n"
   ]
  },
  {
   "cell_type": "code",
   "execution_count": null,
   "metadata": {},
   "outputs": [],
   "source": [
    "x8=np.arange(0,5,1)\n",
    "\n",
    "plt.bar(x8,vehicle2_y.values(),width=0.3,label=\"Number of YES\", color=\"lightblue\")\n",
    "plt.bar(x8+0.3,vehicle2_n.values(),width=0.3,label=\"Number of NO\", color=\"pink\")\n",
    "plt.xticks(x8,vehicle2_n.keys())\n",
    "plt.xlabel(\"Number of 2-Wheeler Vehicles owned by Customer\")\n",
    "plt.ylabel(\"Number of Customers\")\n",
    "plt.title(\"Number of 2-Wheeler Vehicles owned by Customer v/s No. of Customers\")\n",
    "\n",
    "\n",
    "plt.legend()\n",
    "plt.show()"
   ]
  },
  {
   "cell_type": "markdown",
   "metadata": {},
   "source": [
    "NUMBER OF FLOORS IN A HOUSE OWNED BY THE CUSTOMERS"
   ]
  },
  {
   "cell_type": "code",
   "execution_count": null,
   "metadata": {},
   "outputs": [],
   "source": [
    "for i,j in zip(floors_tuple,solar_y_n):\n",
    "    if j=='No':\n",
    "        if i in floors_n:\n",
    "            floors_n[i]+=1\n",
    "        else:\n",
    "            floors_n[i]=1\n",
    "            \n",
    "    elif j=='Yes':\n",
    "        if i in floors_y:\n",
    "            floors_y[i]+=1\n",
    "        else:\n",
    "            floors_y[i]=1\n",
    "            \n",
    "floors_y,floors_n"
   ]
  },
  {
   "cell_type": "code",
   "execution_count": null,
   "metadata": {},
   "outputs": [],
   "source": [
    "floors_y={   'Ground Floor': 51, '1 Floor': 25,  '2 Floors': 27,'3 Floors': 21,   '4+': 11,  'G+1 Floor': 37,  'G+2 Floors': 39,  'G+3 Floors': 19,  'G+ 4+ floors': 29,}"
   ]
  },
  {
   "cell_type": "code",
   "execution_count": null,
   "metadata": {},
   "outputs": [],
   "source": [
    "acc={}\n",
    "for key in floors_y.keys():\n",
    "    val=floors_n[key]\n",
    "    acc[key]=val"
   ]
  },
  {
   "cell_type": "code",
   "execution_count": null,
   "metadata": {},
   "outputs": [],
   "source": [
    "x9=np.arange(0,9,1)\n",
    "\n",
    "plt.bar(x9,floors_y.values(),width=0.3,label=\"Number of YES\", color=\"lightblue\")\n",
    "plt.bar(x9+0.3,acc.values(),width=0.3,label=\"Number of NO\", color=\"pink\")\n",
    "plt.xticks(x9,acc.keys())\n",
    "plt.xlabel(\"Number of floors\")\n",
    "plt.ylabel(\"Number of Customers\")\n",
    "plt.title(\"Number of floors owned by Customer v/s No. of Customers\")\n",
    "\n",
    "plt.xticks(rotation=40)\n",
    "plt.legend()\n",
    "plt.show()"
   ]
  },
  {
   "cell_type": "markdown",
   "metadata": {},
   "source": [
    "NUMBER OF ROOMS OWNED BY THE CUSTOMERS"
   ]
  },
  {
   "cell_type": "code",
   "execution_count": null,
   "metadata": {},
   "outputs": [],
   "source": [
    "for i,j in zip(rooms_tuple,solar_y_n):\n",
    "    if j=='No':\n",
    "        if i in rooms_n:\n",
    "            rooms_n[i]+=1\n",
    "        else:\n",
    "            rooms_n[i]=1\n",
    "            \n",
    "    elif j=='Yes':\n",
    "        if i in rooms_y:\n",
    "            rooms_y[i]+=1\n",
    "        else:\n",
    "            rooms_y[i]=1\n",
    "            \n",
    "rooms_y,rooms_n"
   ]
  },
  {
   "cell_type": "code",
   "execution_count": null,
   "metadata": {},
   "outputs": [],
   "source": [
    "rooms_y={1: 15,2: 47, 3: 70,  4: 50, '5+': 77}"
   ]
  },
  {
   "cell_type": "code",
   "execution_count": null,
   "metadata": {},
   "outputs": [],
   "source": [
    "acd={}\n",
    "for key in rooms_y.keys():\n",
    "    val=rooms_n[key]\n",
    "    acd[key]=val"
   ]
  },
  {
   "cell_type": "code",
   "execution_count": null,
   "metadata": {},
   "outputs": [],
   "source": [
    "x10=np.arange(0,5,1)\n",
    "\n",
    "plt.bar(x10,rooms_y.values(),width=0.3,label=\"Number of YES\", color=\"lightblue\")\n",
    "plt.bar(x10+0.3,acd.values(),width=0.3,label=\"Number of NO\", color=\"pink\")\n",
    "plt.xticks(x10,acd.keys())\n",
    "plt.xlabel(\"Number of rooms\")\n",
    "plt.ylabel(\"Number of Customers\")\n",
    "plt.title(\"Number of rooms owned by Customer v/s No. of Customers\")\n",
    "plt.legend()\n",
    "plt.show()"
   ]
  },
  {
   "cell_type": "markdown",
   "metadata": {},
   "source": [
    "#### Importing the Map of India for visual depiction of the final result"
   ]
  },
  {
   "cell_type": "code",
   "execution_count": 38,
   "metadata": {},
   "outputs": [
    {
     "data": {
      "text/plain": [
       "(66.72480316162121, 98.87660675048834, 5.316901993751466, 36.93868510723114)"
      ]
     },
     "execution_count": 38,
     "metadata": {},
     "output_type": "execute_result"
    },
    {
     "data": {
      "image/png": "[encoded data removed]",
      "text/plain": [
       "<Figure size 432x288 with 1 Axes>"
      ]
     },
     "metadata": {
      "needs_background": "light"
     },
     "output_type": "display_data"
    }
   ],
   "source": [
    "india=gpd.read_file('C:/Users/Sukriti Macker/Peacock Solar Data Analytics Intern/IND_adm1.shp')\n",
    "india.plot()\n",
    "plt.axis(\"off\")"
   ]
  },
  {
   "cell_type": "code",
   "execution_count": 39,
   "metadata": {},
   "outputs": [
    {
     "data": {
      "text/plain": [
       "(66.72480316162121, 98.87660675048834, 5.316901993751466, 36.93868510723114)"
      ]
     },
     "execution_count": 39,
     "metadata": {},
     "output_type": "execute_result"
    },
    {
     "data": {
      "image/png": "[encoded data removed]",
      "text/plain": [
       "<Figure size 432x288 with 1 Axes>"
      ]
     },
     "metadata": {
      "needs_background": "light"
     },
     "output_type": "display_data"
    }
   ],
   "source": [
    "india2=gpd.read_file('C:/Users/Sukriti Macker/Peacock Solar Data Analytics Intern/IND_adm1.shp')\n",
    "india2.plot()\n",
    "plt.axis(\"off\")"
   ]
  },
  {
   "cell_type": "code",
   "execution_count": 40,
   "metadata": {},
   "outputs": [],
   "source": [
    "# Renaming the column\n",
    "\n",
    "india.rename(columns={'NAME_1':'State Name'},inplace=True)  \n",
    "india2.rename(columns={'NAME_1':'State Name'},inplace=True)"
   ]
  },
  {
   "cell_type": "code",
   "execution_count": 42,
   "metadata": {},
   "outputs": [],
   "source": [
    "## Creating two tuples\n",
    "'''\n",
    "The tuple \"states_tuple\" stores all the name of the states in India\n",
    "The tuple \"solar_y_n\" stores the binary value whether the customer would purchase the solar panel or not\n",
    "'''\n",
    "\n",
    "states_tuple = tuple(data['State Name'])\n",
    "solar_y_n = tuple(data['Solar Panel Purchased or Not'])"
   ]
  },
  {
   "cell_type": "code",
   "execution_count": 43,
   "metadata": {},
   "outputs": [
    {
     "data": {
      "text/plain": [
       "({None: 129,\n",
       "  'Delhi': 16,\n",
       "  'Jharkhand': 2,\n",
       "  'Bihar': 9,\n",
       "  'Kerala': 3,\n",
       "  'Maharashtra': 18,\n",
       "  'Gujarat': 11,\n",
       "  'Haryana': 8,\n",
       "  'Uttar Pradesh': 21,\n",
       "  'Rajasthan': 6,\n",
       "  'Punjab': 3,\n",
       "  'West Bengal': 5,\n",
       "  'Andhra Pradesh': 7,\n",
       "  'Madhya Pradesh': 10,\n",
       "  'Uttarakhand': 3,\n",
       "  'Himachal Pradesh': 2,\n",
       "  'Orissa': 5,\n",
       "  'Tamil Nadu': 1},\n",
       " {None: 2309,\n",
       "  'Andhra Pradesh': 168,\n",
       "  'Kerala': 20,\n",
       "  'Bihar': 129,\n",
       "  'Delhi': 385,\n",
       "  'Maharashtra': 190,\n",
       "  'Madhya Pradesh': 122,\n",
       "  'Gujarat': 189,\n",
       "  'Uttar Pradesh': 357,\n",
       "  'Uttarakhand': 27,\n",
       "  'West Bengal': 120,\n",
       "  'Rajasthan': 66,\n",
       "  'Punjab': 45,\n",
       "  'Haryana': 172,\n",
       "  'Jharkhand': 36,\n",
       "  'Jammu and Kashmir': 4,\n",
       "  'Chhattisgarh': 16,\n",
       "  'Karnataka': 16,\n",
       "  'Tamil Nadu': 40,\n",
       "  'Assam': 12,\n",
       "  'Orissa': 73,\n",
       "  'Nagaland': 1,\n",
       "  'Himachal Pradesh': 13,\n",
       "  'Manipur': 1,\n",
       "  'Puducherry': 2,\n",
       "  'Daman and Diu': 2,\n",
       "  'Meghalaya': 1})"
      ]
     },
     "execution_count": 43,
     "metadata": {},
     "output_type": "execute_result"
    }
   ],
   "source": [
    "'''\n",
    "Separating the results of Customers:-\n",
    "'state_wise_yes' dictionary contains the values for the number of customers per state who purchased the solar panel\n",
    "'state_wise_no' dictionary contains the values for the number of customers per state who did not purchase the solar panel\n",
    "'''\n",
    "\n",
    "state_wise_yes={}\n",
    "state_wise_no={}\n",
    "\n",
    "for i,j in zip(states_tuple,solar_y_n):\n",
    "    if j=='Yes':\n",
    "        if i in state_wise_yes:\n",
    "            state_wise_yes[i]+=1\n",
    "        else:\n",
    "            state_wise_yes[i]=1\n",
    "            \n",
    "    elif j==\"No\":\n",
    "        if i in state_wise_no:\n",
    "            state_wise_no[i]+=1\n",
    "        else:\n",
    "            state_wise_no[i]=1        \n",
    "\n",
    "            \n",
    "## Printing the results            \n",
    "state_wise_yes, state_wise_no"
   ]
  },
  {
   "cell_type": "code",
   "execution_count": 44,
   "metadata": {},
   "outputs": [
    {
     "data": {
      "text/plain": [
       "129"
      ]
     },
     "execution_count": 44,
     "metadata": {},
     "output_type": "execute_result"
    }
   ],
   "source": [
    "## Removing the NONE value from both the above mentioned dictionaries\n",
    "\n",
    "state_wise_no.pop(None)\n",
    "state_wise_yes.pop(None)"
   ]
  },
  {
   "cell_type": "markdown",
   "metadata": {},
   "source": [
    "## Visualizing the results are per the states of India"
   ]
  },
  {
   "cell_type": "code",
   "execution_count": 45,
   "metadata": {},
   "outputs": [],
   "source": [
    "'''\n",
    "Creating a list of keys and values for both dictionaries\n",
    "'''\n",
    "# List for keys and values for state_wise_no dictionary\n",
    "no_states_keys=list(state_wise_no.keys())\n",
    "no_states_values=list(state_wise_no.values())\n",
    "\n",
    "# List for keys and values for state_wise_yes dictionary\n",
    "yes_states_keys=list(state_wise_yes.keys())\n",
    "yes_states_values=list(state_wise_yes.values())"
   ]
  },
  {
   "cell_type": "code",
   "execution_count": 46,
   "metadata": {},
   "outputs": [],
   "source": [
    "# Creating the dataframe for customers who said 'no' to the product\n",
    "\n",
    "no_dataframe=pd.DataFrame(data=[],columns=['State Name','Count No'])"
   ]
  },
  {
   "cell_type": "code",
   "execution_count": 47,
   "metadata": {},
   "outputs": [],
   "source": [
    "## Filling in the values in the no_dataframe for customers who said 'no' to the product\n",
    "\n",
    "no_dataframe['State Name']=no_states_keys\n",
    "no_dataframe['Count No']=no_states_values"
   ]
  },
  {
   "cell_type": "code",
   "execution_count": 48,
   "metadata": {},
   "outputs": [],
   "source": [
    "# Creating the dataframe for customers who said 'yes' to the product\n",
    "\n",
    "yes_dataframe=pd.DataFrame(data=[],columns=['State Name','Count yes'])"
   ]
  },
  {
   "cell_type": "code",
   "execution_count": 49,
   "metadata": {},
   "outputs": [],
   "source": [
    "## Filling in the values in the yes_dataframe for customers who said 'yes' to the product\n",
    "\n",
    "yes_dataframe['State Name']=yes_states_keys\n",
    "yes_dataframe['Count Yes']=yes_states_values"
   ]
  },
  {
   "cell_type": "markdown",
   "metadata": {},
   "source": [
    "## Observing the results for the customers who purchased the product in various states"
   ]
  },
  {
   "cell_type": "code",
   "execution_count": 50,
   "metadata": {},
   "outputs": [],
   "source": [
    "merge=india.merge(yes_dataframe,on='State Name',how='right') #yes"
   ]
  },
  {
   "cell_type": "code",
   "execution_count": 234,
   "metadata": {
    "scrolled": false
   },
   "outputs": [
    {
     "data": {
      "text/plain": [
       "Text(0.5, 1, 'STATES WHERE CUSTOMERS BOUGHT SOLAR PANELS')"
      ]
     },
     "execution_count": 234,
     "metadata": {},
     "output_type": "execute_result"
    },
    {
     "data": {
      "image/png": "[encoded data removed]",
      "text/plain": [
       "<Figure size 720x720 with 2 Axes>"
      ]
     },
     "metadata": {
      "needs_background": "light"
     },
     "output_type": "display_data"
    }
   ],
   "source": [
    "merge.plot(column='Count Yes',cmap='Oranges',figsize=(10,10),legend=True,edgecolor='black',classification_kwds={'bins':[50,100,150,200,250,300,350,400]})\n",
    "plt.axis(\"off\")\n",
    "plt.title(\"STATES WHERE CUSTOMERS BOUGHT SOLAR PANELS\")"
   ]
  },
  {
   "cell_type": "code",
   "execution_count": 235,
   "metadata": {},
   "outputs": [
    {
     "data": {
      "text/plain": [
       "{'Delhi': 385,\n",
       " 'Jharkhand': 36,\n",
       " 'Bihar': 129,\n",
       " 'Kerala': 20,\n",
       " 'Maharashtra': 190,\n",
       " 'Gujarat': 189,\n",
       " 'Haryana': 172,\n",
       " 'Uttar Pradesh': 357,\n",
       " 'Rajasthan': 66,\n",
       " 'Punjab': 45,\n",
       " 'West Bengal': 120,\n",
       " 'Andhra Pradesh': 168,\n",
       " 'Madhya Pradesh': 122,\n",
       " 'Uttarakhand': 27,\n",
       " 'Himachal Pradesh': 13,\n",
       " 'Orissa': 73,\n",
       " 'Tamil Nadu': 40}"
      ]
     },
     "execution_count": 235,
     "metadata": {},
     "output_type": "execute_result"
    }
   ],
   "source": [
    "## Extracting the above results are per states\n",
    "\n",
    "mapy1={}\n",
    "for key in yes_states_keys:\n",
    "    val=state_wise_no[key]\n",
    "    mapy1[key]=val\n",
    "    \n",
    "mapy1"
   ]
  },
  {
   "cell_type": "code",
   "execution_count": 246,
   "metadata": {},
   "outputs": [
    {
     "data": {
      "image/png": "[encoded data removed]",
      "text/plain": [
       "<Figure size 432x288 with 1 Axes>"
      ]
     },
     "metadata": {
      "needs_background": "light"
     },
     "output_type": "display_data"
    }
   ],
   "source": [
    "## Observing the graph to see the sale where the customers purchased the product\n",
    "\n",
    "x_=np.arange(0,17,1)\n",
    "\n",
    "plt.bar(x_,state_wise_yes.values(),width=0.5,label=\"Number of YES\", color=\"lightblue\")\n",
    "\n",
    "plt.xticks(x_,mapy1.keys())\n",
    "plt.xlabel(\"States\")\n",
    "plt.ylabel(\"Number of Customers who bought Solar\")\n",
    "plt.title(\"STATES V/S THE PURCHASE OF SOLAR PANELS\")\n",
    "plt.xticks(rotation=80)\n",
    "plt.legend()\n",
    "plt.show()"
   ]
  },
  {
   "cell_type": "markdown",
   "metadata": {},
   "source": [
    "## Observing the results for the customers who did not purchase the product in various states"
   ]
  },
  {
   "cell_type": "code",
   "execution_count": 52,
   "metadata": {},
   "outputs": [],
   "source": [
    "merge2=india2.merge(no_dataframe,on='State Name',how='right') #no"
   ]
  },
  {
   "cell_type": "code",
   "execution_count": 247,
   "metadata": {},
   "outputs": [
    {
     "data": {
      "text/plain": [
       "Text(0.5, 1, 'STATES WHERE CUSTOMERS DID NOT BUY SOLAR PANELS')"
      ]
     },
     "execution_count": 247,
     "metadata": {},
     "output_type": "execute_result"
    },
    {
     "data": {
      "image/png": "[encoded data removed]",
      "text/plain": [
       "<Figure size 720x720 with 2 Axes>"
      ]
     },
     "metadata": {
      "needs_background": "light"
     },
     "output_type": "display_data"
    }
   ],
   "source": [
    "merge2.plot(column='Count No',cmap='OrRd',figsize=(10,10),legend=True,edgecolor='black',classification_kwds={'bins':[50,100,150,200,250,300,350,400]})\n",
    "plt.axis(\"off\")\n",
    "plt.title(\"STATES WHERE CUSTOMERS DID NOT BUY SOLAR PANELS\")"
   ]
  },
  {
   "cell_type": "code",
   "execution_count": 248,
   "metadata": {
    "scrolled": true
   },
   "outputs": [
    {
     "data": {
      "image/png": "[encoded data removed]",
      "text/plain": [
       "<Figure size 432x288 with 1 Axes>"
      ]
     },
     "metadata": {
      "needs_background": "light"
     },
     "output_type": "display_data"
    }
   ],
   "source": [
    "## Observing the graph to see the sale where the customers did not purchase the product\n",
    "\n",
    "x_=np.arange(0,17,1)\n",
    "\n",
    "plt.bar(x_,mapy1.values(),width=0.5,label=\"Number of NO\", color=\"pink\")\n",
    "plt.xticks(x_,mapy1.keys())\n",
    "plt.xlabel(\"States\")\n",
    "plt.ylabel(\"Number of Customers who did not buy Solar\")\n",
    "plt.title(\"STATES V/S THE PURCHASE OF SOLAR PANELS\")\n",
    "plt.xticks(rotation=80)\n",
    "plt.legend()\n",
    "plt.show()"
   ]
  }
 ],
 "metadata": {
  "kernelspec": {
   "display_name": "Python 3",
   "language": "python",
   "name": "python3"
  },
  "language_info": {
   "codemirror_mode": {
    "name": "ipython",
    "version": 3
   },
   "file_extension": ".py",
   "mimetype": "text/x-python",
   "name": "python",
   "nbconvert_exporter": "python",
   "pygments_lexer": "ipython3",
   "version": "3.7.6"
  }
 },
 "nbformat": 4,
 "nbformat_minor": 4
}
